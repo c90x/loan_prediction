{
  "cells": [
    {
      "cell_type": "markdown",
      "metadata": {
        "id": "view-in-github",
        "colab_type": "text"
      },
      "source": [
        "<a href=\"https://colab.research.google.com/github/c90x/loan_prediction/blob/main/loan_lab.ipynb\" target=\"_parent\"><img src=\"https://colab.research.google.com/assets/colab-badge.svg\" alt=\"Open In Colab\"/></a>"
      ]
    },
    {
      "cell_type": "markdown",
      "metadata": {
        "id": "kLjTJ47b9kNq"
      },
      "source": [
        "# Loan Dataset - Lab"
      ]
    },
    {
      "cell_type": "markdown",
      "metadata": {
        "id": "fsJpVVFo9kNr"
      },
      "source": [
        "Original Dataset:"
      ]
    },
    {
      "cell_type": "markdown",
      "metadata": {
        "id": "ohpKZh5t9kNs"
      },
      "source": [
        "## Dependencies"
      ]
    },
    {
      "cell_type": "code",
      "execution_count": 1,
      "metadata": {
        "id": "R6bqvzTB9kNs"
      },
      "outputs": [],
      "source": [
        "import re\n",
        "from pathlib import Path"
      ]
    },
    {
      "cell_type": "code",
      "execution_count": 2,
      "metadata": {
        "id": "JaAnZNZ59kNt"
      },
      "outputs": [],
      "source": [
        "import pandas as pd\n",
        "import numpy as np\n",
        "import matplotlib.pyplot as plt"
      ]
    },
    {
      "cell_type": "markdown",
      "metadata": {
        "id": "TRnAsjPa9kNt"
      },
      "source": [
        "Configure theme"
      ]
    },
    {
      "cell_type": "code",
      "execution_count": 3,
      "metadata": {
        "id": "NQiz26zM9kNt"
      },
      "outputs": [],
      "source": [
        "plt.style.use('dark_background')"
      ]
    },
    {
      "cell_type": "markdown",
      "metadata": {
        "id": "DUpLGUQM9kNu"
      },
      "source": [
        "**Download** dataset from Kaggle"
      ]
    },
    {
      "cell_type": "code",
      "execution_count": 4,
      "metadata": {
        "id": "RV_m6jEj9kNu",
        "outputId": "e24f4606-5e32-4a7f-81c6-a26e5686680c",
        "colab": {
          "base_uri": "https://localhost:8080/"
        }
      },
      "outputs": [
        {
          "output_type": "stream",
          "name": "stdout",
          "text": [
            "Downloading from https://www.kaggle.com/api/v1/datasets/download/ranadeep/credit-risk-dataset?dataset_version_number=3...\n"
          ]
        },
        {
          "output_type": "stream",
          "name": "stderr",
          "text": [
            "100%|██████████| 101M/101M [00:02<00:00, 46.2MB/s] "
          ]
        },
        {
          "output_type": "stream",
          "name": "stdout",
          "text": [
            "Extracting files...\n"
          ]
        },
        {
          "output_type": "stream",
          "name": "stderr",
          "text": [
            "\n"
          ]
        },
        {
          "output_type": "stream",
          "name": "stdout",
          "text": [
            "Downloaded dataset to path: /root/.cache/kagglehub/datasets/ranadeep/credit-risk-dataset/versions/3/loan/loan.csv\n"
          ]
        }
      ],
      "source": [
        "import kagglehub\n",
        "\n",
        "# Download latest version\n",
        "path = Path(kagglehub.dataset_download(\"ranadeep/credit-risk-dataset\"))\n",
        "\n",
        "path = path / \"loan\" / \"loan.csv\"\n",
        "\n",
        "assert path.exists()\n",
        "assert path.is_file()\n",
        "\n",
        "print(\"Downloaded dataset to path:\", path)"
      ]
    },
    {
      "cell_type": "markdown",
      "metadata": {
        "id": "9NhoC0x19kNv"
      },
      "source": [
        "Load dataset"
      ]
    },
    {
      "cell_type": "code",
      "execution_count": 5,
      "metadata": {
        "id": "AbyXg7ga9kNv",
        "outputId": "91c51db4-1b20-41c7-9ac5-73380cccfaad",
        "colab": {
          "base_uri": "https://localhost:8080/"
        }
      },
      "outputs": [
        {
          "output_type": "stream",
          "name": "stderr",
          "text": [
            "<ipython-input-5-bd8bc01527dc>:1: DtypeWarning: Columns (19,55) have mixed types. Specify dtype option on import or set low_memory=False.\n",
            "  df = pd.read_csv(path)\n"
          ]
        }
      ],
      "source": [
        "df = pd.read_csv(path)\n",
        "df = df.sample(n=50000, random_state=99)"
      ]
    },
    {
      "cell_type": "markdown",
      "metadata": {
        "id": "O9QE1ha29kNw"
      },
      "source": [
        "## Preprocessing"
      ]
    },
    {
      "cell_type": "code",
      "execution_count": 6,
      "metadata": {
        "id": "xqdDmbdL9kNw",
        "outputId": "9cb70f5c-a509-4765-e8a6-7aa3f494b59a",
        "colab": {
          "base_uri": "https://localhost:8080/"
        }
      },
      "outputs": [
        {
          "output_type": "stream",
          "name": "stdout",
          "text": [
            "Index(['id', 'member_id', 'loan_amnt', 'funded_amnt', 'funded_amnt_inv',\n",
            "       'term', 'int_rate', 'installment', 'grade', 'sub_grade', 'emp_title',\n",
            "       'emp_length', 'home_ownership', 'annual_inc', 'verification_status',\n",
            "       'issue_d', 'loan_status', 'pymnt_plan', 'url', 'desc', 'purpose',\n",
            "       'title', 'zip_code', 'addr_state', 'dti', 'delinq_2yrs',\n",
            "       'earliest_cr_line', 'inq_last_6mths', 'mths_since_last_delinq',\n",
            "       'mths_since_last_record', 'open_acc', 'pub_rec', 'revol_bal',\n",
            "       'revol_util', 'total_acc', 'initial_list_status', 'out_prncp',\n",
            "       'out_prncp_inv', 'total_pymnt', 'total_pymnt_inv', 'total_rec_prncp',\n",
            "       'total_rec_int', 'total_rec_late_fee', 'recoveries',\n",
            "       'collection_recovery_fee', 'last_pymnt_d', 'last_pymnt_amnt',\n",
            "       'next_pymnt_d', 'last_credit_pull_d', 'collections_12_mths_ex_med',\n",
            "       'mths_since_last_major_derog', 'policy_code', 'application_type',\n",
            "       'annual_inc_joint', 'dti_joint', 'verification_status_joint',\n",
            "       'acc_now_delinq', 'tot_coll_amt', 'tot_cur_bal', 'open_acc_6m',\n",
            "       'open_il_6m', 'open_il_12m', 'open_il_24m', 'mths_since_rcnt_il',\n",
            "       'total_bal_il', 'il_util', 'open_rv_12m', 'open_rv_24m', 'max_bal_bc',\n",
            "       'all_util', 'total_rev_hi_lim', 'inq_fi', 'total_cu_tl',\n",
            "       'inq_last_12m'],\n",
            "      dtype='object')\n"
          ]
        }
      ],
      "source": [
        "print(df.columns)"
      ]
    },
    {
      "cell_type": "markdown",
      "metadata": {
        "id": "gB3GwaRZ9kNw"
      },
      "source": [
        "Select columns"
      ]
    },
    {
      "cell_type": "code",
      "execution_count": 7,
      "metadata": {
        "id": "iJwy_i499kNw"
      },
      "outputs": [],
      "source": [
        "df_select = [\n",
        "    'loan_status', #e\n",
        "    #\n",
        "\n",
        "    # 'addr_state',\n",
        "    'annual_inc',\n",
        "    'annual_inc_joint',\n",
        "    #'application_type',\n",
        "    'collection_recovery_fee',\n",
        "    'collections_12_mths_ex_med',\n",
        "    'dti',\n",
        "    'dti_joint',\n",
        "    'emp_length', #e\n",
        "    #'fico_range_high',\n",
        "    #'fico_range_low',\n",
        "    #'grade',\n",
        "    'home_ownership', #e\n",
        "    #'is_inc_v',\n",
        "    #'last_fico_range_high',\n",
        "    #'last_fico_range_low',\n",
        "    'loan_amnt',\n",
        "    'open_acc',\n",
        "    'pub_rec',\n",
        "    'purpose',\n",
        "    'recoveries', #!!!\n",
        "    'sub_grade', #e\n",
        "    'verification_status', #e\n",
        "    #'verified_status_joint',\n",
        "    'open_acc_6m',\n",
        "    'open_il_6m',\n",
        "    'open_il_12m',\n",
        "    'open_il_24m',\n",
        "    'mths_since_rcnt_il',\n",
        "    'total_bal_il',\n",
        "    'il_util',\n",
        "    'open_rv_12m',\n",
        "    'open_rv_24m',\n",
        "    'max_bal_bc',\n",
        "    'all_util',\n",
        "    'total_rev_hi_lim',\n",
        "    #'inq_fi',\n",
        "    #'total_cu_tl',\n",
        "    #'inq_last_12m',\n",
        "    'acc_now_delinq',\n",
        "    'tot_coll_amt',\n",
        "    'tot_cur_bal'\n",
        "]\n",
        "\n",
        "df = df[df_select]"
      ]
    },
    {
      "cell_type": "code",
      "execution_count": 8,
      "metadata": {
        "id": "e8pkNABX9kNx",
        "outputId": "734dacd2-5f57-4dcc-841a-67d8db6d4885",
        "colab": {
          "base_uri": "https://localhost:8080/"
        }
      },
      "outputs": [
        {
          "output_type": "stream",
          "name": "stdout",
          "text": [
            "Index(['loan_status', 'annual_inc', 'annual_inc_joint',\n",
            "       'collection_recovery_fee', 'collections_12_mths_ex_med', 'dti',\n",
            "       'dti_joint', 'emp_length', 'home_ownership', 'loan_amnt', 'open_acc',\n",
            "       'pub_rec', 'purpose', 'recoveries', 'sub_grade', 'verification_status',\n",
            "       'open_acc_6m', 'open_il_6m', 'open_il_12m', 'open_il_24m',\n",
            "       'mths_since_rcnt_il', 'total_bal_il', 'il_util', 'open_rv_12m',\n",
            "       'open_rv_24m', 'max_bal_bc', 'all_util', 'total_rev_hi_lim',\n",
            "       'acc_now_delinq', 'tot_coll_amt', 'tot_cur_bal'],\n",
            "      dtype='object')\n"
          ]
        }
      ],
      "source": [
        "print(df.columns)"
      ]
    },
    {
      "cell_type": "markdown",
      "metadata": {
        "id": "53N_Hd4O9kNx"
      },
      "source": [
        "List **numerical data**"
      ]
    },
    {
      "cell_type": "code",
      "execution_count": 9,
      "metadata": {
        "id": "OE70uDER9kNx",
        "outputId": "3bd2b662-3fb8-4e19-9c14-01b6c4201f56",
        "colab": {
          "base_uri": "https://localhost:8080/"
        }
      },
      "outputs": [
        {
          "output_type": "execute_result",
          "data": {
            "text/plain": [
              "['annual_inc',\n",
              " 'annual_inc_joint',\n",
              " 'collection_recovery_fee',\n",
              " 'collections_12_mths_ex_med',\n",
              " 'dti',\n",
              " 'dti_joint',\n",
              " 'loan_amnt',\n",
              " 'open_acc',\n",
              " 'pub_rec',\n",
              " 'recoveries',\n",
              " 'open_acc_6m',\n",
              " 'open_il_6m',\n",
              " 'open_il_12m',\n",
              " 'open_il_24m',\n",
              " 'mths_since_rcnt_il',\n",
              " 'total_bal_il',\n",
              " 'il_util',\n",
              " 'open_rv_12m',\n",
              " 'open_rv_24m',\n",
              " 'max_bal_bc',\n",
              " 'all_util',\n",
              " 'total_rev_hi_lim',\n",
              " 'acc_now_delinq',\n",
              " 'tot_coll_amt',\n",
              " 'tot_cur_bal']"
            ]
          },
          "metadata": {},
          "execution_count": 9
        }
      ],
      "source": [
        "df.select_dtypes(include=[np.number]).columns.tolist()"
      ]
    },
    {
      "cell_type": "markdown",
      "metadata": {
        "id": "X7cqHXPX9kNx"
      },
      "source": [
        "List **non numerical data**"
      ]
    },
    {
      "cell_type": "code",
      "execution_count": 10,
      "metadata": {
        "id": "1AJu1ngf9kNx",
        "outputId": "f49b33f0-2e3f-4303-9443-54c6636453b9",
        "colab": {
          "base_uri": "https://localhost:8080/"
        }
      },
      "outputs": [
        {
          "output_type": "execute_result",
          "data": {
            "text/plain": [
              "['loan_status',\n",
              " 'emp_length',\n",
              " 'home_ownership',\n",
              " 'purpose',\n",
              " 'sub_grade',\n",
              " 'verification_status']"
            ]
          },
          "metadata": {},
          "execution_count": 10
        }
      ],
      "source": [
        "df.select_dtypes(include=['object']).columns.tolist()"
      ]
    },
    {
      "cell_type": "markdown",
      "metadata": {
        "id": "KxPhnetP9kNy"
      },
      "source": [
        "Encode `loan_status`"
      ]
    },
    {
      "cell_type": "code",
      "execution_count": 11,
      "metadata": {
        "id": "k1A5yRca9kNy",
        "outputId": "f60407dc-e01d-43e9-c7dc-0dfa64da1897",
        "colab": {
          "base_uri": "https://localhost:8080/",
          "height": 429
        }
      },
      "outputs": [
        {
          "output_type": "execute_result",
          "data": {
            "text/plain": [
              "loan_status\n",
              "Current                                                33850\n",
              "Fully Paid                                             11794\n",
              "Charged Off                                             2493\n",
              "Late (31-120 days)                                       665\n",
              "Issued                                                   466\n",
              "In Grace Period                                          368\n",
              "Late (16-30 days)                                        134\n",
              "Does not meet the credit policy. Status:Fully Paid       114\n",
              "Default                                                   71\n",
              "Does not meet the credit policy. Status:Charged Off       45\n",
              "Name: count, dtype: int64"
            ],
            "text/html": [
              "<div>\n",
              "<style scoped>\n",
              "    .dataframe tbody tr th:only-of-type {\n",
              "        vertical-align: middle;\n",
              "    }\n",
              "\n",
              "    .dataframe tbody tr th {\n",
              "        vertical-align: top;\n",
              "    }\n",
              "\n",
              "    .dataframe thead th {\n",
              "        text-align: right;\n",
              "    }\n",
              "</style>\n",
              "<table border=\"1\" class=\"dataframe\">\n",
              "  <thead>\n",
              "    <tr style=\"text-align: right;\">\n",
              "      <th></th>\n",
              "      <th>count</th>\n",
              "    </tr>\n",
              "    <tr>\n",
              "      <th>loan_status</th>\n",
              "      <th></th>\n",
              "    </tr>\n",
              "  </thead>\n",
              "  <tbody>\n",
              "    <tr>\n",
              "      <th>Current</th>\n",
              "      <td>33850</td>\n",
              "    </tr>\n",
              "    <tr>\n",
              "      <th>Fully Paid</th>\n",
              "      <td>11794</td>\n",
              "    </tr>\n",
              "    <tr>\n",
              "      <th>Charged Off</th>\n",
              "      <td>2493</td>\n",
              "    </tr>\n",
              "    <tr>\n",
              "      <th>Late (31-120 days)</th>\n",
              "      <td>665</td>\n",
              "    </tr>\n",
              "    <tr>\n",
              "      <th>Issued</th>\n",
              "      <td>466</td>\n",
              "    </tr>\n",
              "    <tr>\n",
              "      <th>In Grace Period</th>\n",
              "      <td>368</td>\n",
              "    </tr>\n",
              "    <tr>\n",
              "      <th>Late (16-30 days)</th>\n",
              "      <td>134</td>\n",
              "    </tr>\n",
              "    <tr>\n",
              "      <th>Does not meet the credit policy. Status:Fully Paid</th>\n",
              "      <td>114</td>\n",
              "    </tr>\n",
              "    <tr>\n",
              "      <th>Default</th>\n",
              "      <td>71</td>\n",
              "    </tr>\n",
              "    <tr>\n",
              "      <th>Does not meet the credit policy. Status:Charged Off</th>\n",
              "      <td>45</td>\n",
              "    </tr>\n",
              "  </tbody>\n",
              "</table>\n",
              "</div><br><label><b>dtype:</b> int64</label>"
            ]
          },
          "metadata": {},
          "execution_count": 11
        }
      ],
      "source": [
        "df['loan_status'].value_counts()"
      ]
    },
    {
      "cell_type": "code",
      "execution_count": 12,
      "metadata": {
        "id": "d-3oFzn59kNy"
      },
      "outputs": [],
      "source": [
        "# loan_target:\n",
        "# 0: bad\n",
        "# 1: good\n",
        "\n",
        "df_loan_status_good = [\n",
        "    'current',\n",
        "    'fully paid',\n",
        "    'issued',\n",
        "]\n",
        "\n",
        "def df_loan_status_map(x):\n",
        "    if 'fully paid' in x.lower(): return 1\n",
        "    return 1 if x.lower() in df_loan_status_good else 0\n",
        "\n",
        "df['loan_target'] = df['loan_status'].map(df_loan_status_map).fillna(0)"
      ]
    },
    {
      "cell_type": "code",
      "execution_count": 13,
      "metadata": {
        "id": "DIW4_wZp9kNy"
      },
      "outputs": [],
      "source": [
        "df.drop('loan_status', axis=1, inplace=True)"
      ]
    },
    {
      "cell_type": "markdown",
      "metadata": {
        "id": "USjeiwdK9kNz"
      },
      "source": [
        "Encode `emp_length`"
      ]
    },
    {
      "cell_type": "code",
      "execution_count": 14,
      "metadata": {
        "id": "nQy0IoKx9kNz",
        "outputId": "8813a705-c1d7-49e0-b898-cfe533bef25c",
        "colab": {
          "base_uri": "https://localhost:8080/"
        }
      },
      "outputs": [
        {
          "output_type": "execute_result",
          "data": {
            "text/plain": [
              "array(['1 year', '10+ years', '2 years', '7 years', '9 years', '6 years',\n",
              "       nan, '8 years', '3 years', '5 years', '< 1 year', '4 years'],\n",
              "      dtype=object)"
            ]
          },
          "metadata": {},
          "execution_count": 14
        }
      ],
      "source": [
        "df['emp_length'].unique()"
      ]
    },
    {
      "cell_type": "code",
      "execution_count": 15,
      "metadata": {
        "id": "LJB8NnZB9kNz"
      },
      "outputs": [],
      "source": [
        "def df_emp_length_map(s):\n",
        "    if s.lower() == '< 1 year':\n",
        "        return 0\n",
        "\n",
        "    m = re.search(r'\\d+', s)\n",
        "    return int(m.group()) if m else 0\n",
        "\n",
        "df['emp_length'] = df['emp_length'].map(df_emp_length_map, na_action='ignore').fillna(0)"
      ]
    },
    {
      "cell_type": "markdown",
      "metadata": {
        "id": "b7lx6RRP9kNz"
      },
      "source": [
        "One hot encode `home_ownership`"
      ]
    },
    {
      "cell_type": "code",
      "execution_count": 16,
      "metadata": {
        "id": "ZZ0hBWpV9kNz"
      },
      "outputs": [],
      "source": [
        "df = pd.get_dummies(df, columns=['home_ownership'], drop_first=True)"
      ]
    },
    {
      "cell_type": "markdown",
      "metadata": {
        "id": "dmQhY_KA9kNz"
      },
      "source": [
        "Target encode `purpose`"
      ]
    },
    {
      "cell_type": "code",
      "execution_count": 17,
      "metadata": {
        "id": "zh5TDxab9kNz"
      },
      "outputs": [],
      "source": [
        "# Calculate the mean of the target variable for each category in the 'purpose' column\n",
        "df_purpose_target_mean = df.groupby('purpose')['loan_target'].mean()\n",
        "\n",
        "# Map these means back to the original dataframe\n",
        "df['purpose'] = df['purpose'].map(df_purpose_target_mean)"
      ]
    },
    {
      "cell_type": "markdown",
      "metadata": {
        "id": "NNiVuKDk9kN0"
      },
      "source": [
        "Encode `subgrade`"
      ]
    },
    {
      "cell_type": "code",
      "execution_count": 18,
      "metadata": {
        "id": "Per-grAY9kN0",
        "outputId": "6d44a3cc-bda8-4bf6-c591-f52c375085f8",
        "colab": {
          "base_uri": "https://localhost:8080/"
        }
      },
      "outputs": [
        {
          "output_type": "execute_result",
          "data": {
            "text/plain": [
              "array(['B3', 'A4', 'C2', 'C5', 'B5', 'D3', 'B4', 'C3', 'E1', 'E2', 'A2',\n",
              "       'C4', 'E3', 'B2', 'D5', 'E4', 'A1', 'D1', 'C1', 'A5', 'A3', 'D2',\n",
              "       'B1', 'D4', 'E5', 'F1', 'F3', 'F5', 'G4', 'F2', 'G3', 'F4', 'G1',\n",
              "       'G2', 'G5'], dtype=object)"
            ]
          },
          "metadata": {},
          "execution_count": 18
        }
      ],
      "source": [
        "df['sub_grade'].unique()"
      ]
    },
    {
      "cell_type": "code",
      "execution_count": 19,
      "metadata": {
        "id": "nllUq3279kN0"
      },
      "outputs": [],
      "source": [
        "def df_sub_grade_map(s):\n",
        "    return (ord(s[0]) - ord('A') + 1) + (int(s[1]) - 1) / 5\n",
        "\n",
        "df['sub_grade'] = df['sub_grade'].map(df_sub_grade_map)"
      ]
    },
    {
      "cell_type": "markdown",
      "metadata": {
        "id": "0xQgeqHb9kN0"
      },
      "source": [
        "One hot encode `verification_status`"
      ]
    },
    {
      "cell_type": "code",
      "execution_count": 20,
      "metadata": {
        "id": "UixCc-GM9kN0"
      },
      "outputs": [],
      "source": [
        "df = pd.get_dummies(df, columns=['verification_status'], drop_first=True)"
      ]
    },
    {
      "cell_type": "markdown",
      "metadata": {
        "id": "UnOxvtc79kN0"
      },
      "source": [
        "Mark missing"
      ]
    },
    {
      "cell_type": "code",
      "execution_count": 21,
      "metadata": {
        "id": "HAMHkGwR9kN1"
      },
      "outputs": [],
      "source": [
        "for c in [\n",
        "    'open_acc_6m',\n",
        "    'open_il_6m',\n",
        "    'open_il_12m',\n",
        "    'open_il_24m',\n",
        "    'mths_since_rcnt_il',\n",
        "    'total_bal_il',\n",
        "    'il_util',\n",
        "    'open_rv_12m',\n",
        "    'open_rv_24m',\n",
        "    'max_bal_bc',\n",
        "    'all_util',\n",
        "    'total_rev_hi_lim',\n",
        "]:\n",
        "    df[f\"{c}_m\"] = df[c].apply(lambda x: 0 if pd.isna(x) else 1)"
      ]
    },
    {
      "cell_type": "markdown",
      "metadata": {
        "id": "qkpUZHbf9kN1"
      },
      "source": [
        "Fill missing"
      ]
    },
    {
      "cell_type": "code",
      "execution_count": 22,
      "metadata": {
        "id": "GPh8LdRF9kN5"
      },
      "outputs": [],
      "source": [
        "def df_fillna_with_median(c):\n",
        "    df.fillna({c: df[c].median()}, inplace=True)\n",
        "\n",
        "def df_fillna_with_median_of_loan(c):\n",
        "    median_good = df[df['loan_target'] == 1][c].median()\n",
        "    median_bad = df[df['loan_target'] == 0][c].median()\n",
        "\n",
        "    for index, row in df[df[c].isnull()].iterrows():\n",
        "        if row['loan_target'] == 1:\n",
        "            df.at[index, c] = median_good\n",
        "        else:\n",
        "            df.at[index, c] = median_bad"
      ]
    },
    {
      "cell_type": "code",
      "execution_count": 23,
      "metadata": {
        "id": "deJEiHCM9kN5"
      },
      "outputs": [],
      "source": [
        "df_fillna_with_median_of_loan('annual_inc')\n",
        "df.fillna({'annual_inc_joint': 0}, inplace=True)\n",
        "assert df['collection_recovery_fee'].isnull().sum() == 0\n",
        "df.fillna({'collections_12_mths_ex_med': 0}, inplace=True)\n",
        "assert df['dti'].isnull().sum() == 0\n",
        "df.fillna({'dti_joint': 0}, inplace=True)\n",
        "assert df['loan_amnt'].isnull().sum() == 0\n",
        "df_fillna_with_median_of_loan('open_acc')\n",
        "df.fillna({'pub_rec': 0}, inplace=True)\n",
        "assert df['recoveries'].isnull().sum() == 0\n",
        "df.fillna({'open_acc_6m': -1}, inplace=True) #m\n",
        "df.fillna({'open_il_6m': -1}, inplace=True) #m\n",
        "df.fillna({'open_il_12m': -1}, inplace=True) #m\n",
        "df.fillna({'open_il_24m': -1}, inplace=True) #m\n",
        "df.fillna({'mths_since_rcnt_il': -1}, inplace=True) #m\n",
        "df.fillna({'total_bal_il': -1}, inplace=True) #m\n",
        "df.fillna({'il_util': -1}, inplace=True) #m\n",
        "df.fillna({'open_rv_12m': -1}, inplace=True) #m\n",
        "df.fillna({'open_rv_24m': -1}, inplace=True) #m\n",
        "df.fillna({'max_bal_bc': -1}, inplace=True) #m\n",
        "df.fillna({'all_util': -1}, inplace=True) #m\n",
        "df.fillna({'total_rev_hi_lim': 0}, inplace=True)\n",
        "df_fillna_with_median('acc_now_delinq')\n",
        "df_fillna_with_median_of_loan('tot_coll_amt')\n",
        "df_fillna_with_median_of_loan('tot_cur_bal')"
      ]
    },
    {
      "cell_type": "code",
      "execution_count": 24,
      "metadata": {
        "id": "BQHI1xne9kN5"
      },
      "outputs": [],
      "source": [
        "# for c in [\n",
        "#     'revol_util', 'tot_coll_amt', 'tot_cur_bal', 'total_rev_hi_lim', 'annual_inc',\n",
        "#     'delinq_2yrs', 'inq_last_6mths', 'open_acc', 'pub_rec', 'total_acc', 'acc_now_delinq'\n",
        "# ]:\n",
        "#     df_fillna_with_median_of_loan(c)"
      ]
    },
    {
      "cell_type": "markdown",
      "metadata": {
        "id": "XvyUuzMn9kN5"
      },
      "source": [
        "Mark missing and delete"
      ]
    },
    {
      "cell_type": "code",
      "execution_count": 25,
      "metadata": {
        "id": "I_c7uJuu9kN5"
      },
      "outputs": [],
      "source": [
        "def df_mark(columns):\n",
        "    for c in columns:\n",
        "        df[f\"{c}_m\"] = df[c].apply(lambda x: 0 if pd.isna(x) else 1)\n",
        "\n",
        "df_mark([])"
      ]
    },
    {
      "cell_type": "markdown",
      "metadata": {
        "id": "Xs3L9z_59kN6"
      },
      "source": [
        "Print columns with incomplete values"
      ]
    },
    {
      "cell_type": "code",
      "execution_count": 26,
      "metadata": {
        "id": "Vcqe5HSU9kN6",
        "outputId": "039c7b80-8013-4574-b2ad-6cbc8738e0dd",
        "colab": {
          "base_uri": "https://localhost:8080/"
        }
      },
      "outputs": [
        {
          "output_type": "stream",
          "name": "stdout",
          "text": [
            "[]\n"
          ]
        }
      ],
      "source": [
        "print(df.columns[df.isnull().any()].tolist())"
      ]
    },
    {
      "cell_type": "markdown",
      "metadata": {
        "id": "hCMmTlLj9kN6"
      },
      "source": [
        "Ensure all cells are valid"
      ]
    },
    {
      "cell_type": "code",
      "execution_count": 27,
      "metadata": {
        "id": "jW0aHkqK9kN6"
      },
      "outputs": [],
      "source": [
        "assert df.isnull().sum().sum() == 0, \"DataFrame contains NaN values\""
      ]
    },
    {
      "cell_type": "markdown",
      "metadata": {
        "id": "PpenrvVA9kN6"
      },
      "source": [
        "## Analysis"
      ]
    },
    {
      "cell_type": "markdown",
      "metadata": {
        "id": "jZUBX6XL9kN6"
      },
      "source": [
        "Amount of good vs bad loans"
      ]
    },
    {
      "cell_type": "code",
      "execution_count": 28,
      "metadata": {
        "id": "OWh35aD89kN6",
        "outputId": "e3e3d76a-fe9c-4fde-d34c-f220f97cb500",
        "colab": {
          "base_uri": "https://localhost:8080/",
          "height": 428
        }
      },
      "outputs": [
        {
          "output_type": "display_data",
          "data": {
            "text/plain": [
              "<Figure size 640x480 with 1 Axes>"
            ],
            "image/png": "[encoded data removed]"
          },
          "metadata": {}
        }
      ],
      "source": [
        "loan_target_counts = df['loan_target'].value_counts(normalize=True) * 100\n",
        "loan_target_counts.plot(kind='pie', autopct='%1.1f%%', labels=['Good Loans', 'Bad Loans'], colors=['#66b3ff','#ff9999'], startangle=90)\n",
        "plt.title('Percentage of Loan Targets')\n",
        "plt.ylabel('')\n",
        "plt.show()"
      ]
    },
    {
      "cell_type": "markdown",
      "metadata": {
        "id": "RTuvEYt49kN7"
      },
      "source": [
        "### Lab Model"
      ]
    },
    {
      "cell_type": "markdown",
      "metadata": {
        "id": "7ALb6Oul9kN7"
      },
      "source": [
        "Split Data"
      ]
    },
    {
      "cell_type": "code",
      "execution_count": 29,
      "metadata": {
        "id": "Vp6quFD39kN7"
      },
      "outputs": [],
      "source": [
        "from sklearn.model_selection import train_test_split\n",
        "\n",
        "# Define features and target\n",
        "X = df.drop(['loan_target'], axis=1)\n",
        "y = df['loan_target']\n",
        "\n",
        "# Split the data into training and testing sets\n",
        "X_train, X_test, y_train, y_test = train_test_split(\n",
        "    X, y, test_size=0.2, random_state=99)"
      ]
    },
    {
      "cell_type": "markdown",
      "metadata": {
        "id": "P77xQXqP9kN7"
      },
      "source": [
        "Create and train decision tree"
      ]
    },
    {
      "cell_type": "code",
      "execution_count": 30,
      "metadata": {
        "id": "8HfBe5tm9kN7"
      },
      "outputs": [],
      "source": [
        "from sklearn.ensemble import RandomForestClassifier\n",
        "\n",
        "# Create and train the random forest classifier\n",
        "clf = RandomForestClassifier(random_state=99, n_estimators=300, max_depth=15)\n",
        "clf.fit(X_train, y_train)\n",
        "\n",
        "# Predict on the test data\n",
        "clf_y_pred = clf.predict(X_test)"
      ]
    },
    {
      "cell_type": "markdown",
      "metadata": {
        "id": "XrD3XlD19kN8"
      },
      "source": [
        "Create dummy classifier"
      ]
    },
    {
      "cell_type": "code",
      "execution_count": 31,
      "metadata": {
        "id": "hVJ6AJOG9kN8"
      },
      "outputs": [],
      "source": [
        "from sklearn.dummy import DummyClassifier\n",
        "\n",
        "# Create and train the dummy classifier\n",
        "dummy_clf = DummyClassifier(strategy='most_frequent', random_state=99)\n",
        "dummy_clf.fit(X_train, y_train)\n",
        "\n",
        "# Predict on the test data\n",
        "dummy_y_pred = dummy_clf.predict(X_test)"
      ]
    },
    {
      "cell_type": "markdown",
      "metadata": {
        "id": "zKOD9VV-9kN8"
      },
      "source": [
        "### Classification Report"
      ]
    },
    {
      "cell_type": "code",
      "execution_count": 32,
      "metadata": {
        "id": "rksWJ29M9kN8"
      },
      "outputs": [],
      "source": [
        "from sklearn.metrics import classification_report"
      ]
    },
    {
      "cell_type": "code",
      "execution_count": 33,
      "metadata": {
        "id": "1AwZ_UXi9kN8",
        "outputId": "40f4084b-997c-47f0-8889-460862e3d02e",
        "colab": {
          "base_uri": "https://localhost:8080/"
        }
      },
      "outputs": [
        {
          "output_type": "stream",
          "name": "stdout",
          "text": [
            "              precision    recall  f1-score   support\n",
            "\n",
            "   Bad Loans       1.00      0.41      0.58       778\n",
            "  Good Loans       0.95      1.00      0.98      9222\n",
            "\n",
            "    accuracy                           0.95     10000\n",
            "   macro avg       0.98      0.71      0.78     10000\n",
            "weighted avg       0.96      0.95      0.95     10000\n",
            "\n"
          ]
        }
      ],
      "source": [
        "# Generate the classification report\n",
        "report = classification_report(y_test, clf_y_pred, target_names=['Bad Loans', 'Good Loans'])\n",
        "print(report)"
      ]
    },
    {
      "cell_type": "code",
      "execution_count": 34,
      "metadata": {
        "id": "g6nvv8Cf9kN8",
        "outputId": "f6cec412-fa28-49c0-a647-766ffc21ef02",
        "colab": {
          "base_uri": "https://localhost:8080/"
        }
      },
      "outputs": [
        {
          "output_type": "stream",
          "name": "stdout",
          "text": [
            "              precision    recall  f1-score   support\n",
            "\n",
            "   Bad Loans       0.00      0.00      0.00       778\n",
            "  Good Loans       0.92      1.00      0.96      9222\n",
            "\n",
            "    accuracy                           0.92     10000\n",
            "   macro avg       0.46      0.50      0.48     10000\n",
            "weighted avg       0.85      0.92      0.88     10000\n",
            "\n"
          ]
        }
      ],
      "source": [
        "# Evaluate the dummy classifier\n",
        "dummy_report = classification_report(y_test, dummy_y_pred, target_names=['Bad Loans', 'Good Loans'], zero_division=0)\n",
        "print(dummy_report)"
      ]
    },
    {
      "cell_type": "markdown",
      "metadata": {
        "id": "edMnk5-G9kN9"
      },
      "source": [
        "List most important features"
      ]
    },
    {
      "cell_type": "code",
      "execution_count": 35,
      "metadata": {
        "id": "M6pfW2pk9kN9",
        "outputId": "dab8f613-e504-4083-b7c5-de2122e6c684",
        "colab": {
          "base_uri": "https://localhost:8080/",
          "height": 564
        }
      },
      "outputs": [
        {
          "output_type": "display_data",
          "data": {
            "text/plain": [
              "<Figure size 1000x600 with 1 Axes>"
            ],
            "image/png": "[encoded data removed]"
          },
          "metadata": {}
        }
      ],
      "source": [
        "# Get feature importances\n",
        "clf_importances = clf.feature_importances_\n",
        "clf_feature_names = X.columns\n",
        "\n",
        "# Create a DataFrame for visualization\n",
        "clf_feature_importances = pd.DataFrame({'Feature': clf_feature_names, 'Importance': clf_importances})\n",
        "clf_feature_importances = clf_feature_importances.sort_values(by='Importance', ascending=False).head(25)\n",
        "\n",
        "# Plot the feature importances\n",
        "plt.figure(figsize=(10, 6))\n",
        "plt.barh(clf_feature_importances['Feature'], clf_feature_importances['Importance'], color='skyblue')\n",
        "plt.xlabel('Importance')\n",
        "plt.ylabel('Feature')\n",
        "plt.title('Top 25 Feature Importances')\n",
        "plt.gca().invert_yaxis()\n",
        "plt.show()"
      ]
    }
  ],
  "metadata": {
    "kernelspec": {
      "display_name": ".venv",
      "language": "python",
      "name": "python3"
    },
    "language_info": {
      "codemirror_mode": {
        "name": "ipython",
        "version": 3
      },
      "file_extension": ".py",
      "mimetype": "text/x-python",
      "name": "python",
      "nbconvert_exporter": "python",
      "pygments_lexer": "ipython3",
      "version": "3.13.0"
    },
    "colab": {
      "provenance": [],
      "include_colab_link": true
    }
  },
  "nbformat": 4,
  "nbformat_minor": 0
}