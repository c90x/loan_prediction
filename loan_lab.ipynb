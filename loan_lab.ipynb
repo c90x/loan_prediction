{
 "cells": [
  {
   "cell_type": "markdown",
   "metadata": {
    "colab_type": "text",
    "id": "view-in-github"
   },
   "source": [
    "<a href=\"https://colab.research.google.com/github/c90x/loan_prediction/blob/main/loan_lab.ipynb\" target=\"_parent\"><img src=\"https://colab.research.google.com/assets/colab-badge.svg\" alt=\"Open In Colab\"/></a>"
   ]
  },
  {
   "cell_type": "markdown",
   "metadata": {
    "id": "kLjTJ47b9kNq"
   },
   "source": [
    "# Loan Dataset - Lab"
   ]
  },
  {
   "cell_type": "markdown",
   "metadata": {},
   "source": [
    "## Dependencies"
   ]
  },
  {
   "cell_type": "code",
   "execution_count": 718,
   "metadata": {
    "id": "R6bqvzTB9kNs"
   },
   "outputs": [],
   "source": [
    "import re\n",
    "from pathlib import Path"
   ]
  },
  {
   "cell_type": "code",
   "execution_count": 719,
   "metadata": {
    "id": "JaAnZNZ59kNt"
   },
   "outputs": [],
   "source": [
    "import matplotlib.pyplot as plt\n",
    "import numpy as np\n",
    "import pandas as pd\n",
    "import seaborn as sns"
   ]
  },
  {
   "cell_type": "markdown",
   "metadata": {
    "id": "TRnAsjPa9kNt"
   },
   "source": [
    "Configure theme"
   ]
  },
  {
   "cell_type": "code",
   "execution_count": 720,
   "metadata": {
    "id": "NQiz26zM9kNt"
   },
   "outputs": [],
   "source": [
    "plt.style.use(\"dark_background\")"
   ]
  },
  {
   "cell_type": "markdown",
   "metadata": {
    "id": "DUpLGUQM9kNu"
   },
   "source": [
    "**Download** dataset from Kaggle"
   ]
  },
  {
   "cell_type": "code",
   "execution_count": 721,
   "metadata": {
    "colab": {
     "base_uri": "https://localhost:8080/"
    },
    "id": "RV_m6jEj9kNu",
    "outputId": "e24f4606-5e32-4a7f-81c6-a26e5686680c"
   },
   "outputs": [
    {
     "name": "stdout",
     "output_type": "stream",
     "text": [
      "Downloaded dataset to path: /home/cube/.cache/kagglehub/datasets/ranadeep/credit-risk-dataset/versions/3/loan/loan.csv\n"
     ]
    }
   ],
   "source": [
    "import kagglehub\n",
    "\n",
    "# Download latest version\n",
    "path = Path(kagglehub.dataset_download(\"ranadeep/credit-risk-dataset\"))\n",
    "\n",
    "path = path / \"loan\" / \"loan.csv\"\n",
    "\n",
    "assert path.exists()\n",
    "assert path.is_file()\n",
    "\n",
    "print(\"Downloaded dataset to path:\", path)"
   ]
  },
  {
   "cell_type": "markdown",
   "metadata": {
    "id": "9NhoC0x19kNv"
   },
   "source": [
    "Load dataset"
   ]
  },
  {
   "cell_type": "code",
   "execution_count": null,
   "metadata": {
    "colab": {
     "base_uri": "https://localhost:8080/"
    },
    "id": "AbyXg7ga9kNv",
    "outputId": "91c51db4-1b20-41c7-9ac5-73380cccfaad"
   },
   "outputs": [
    {
     "name": "stderr",
     "output_type": "stream",
     "text": [
      "/tmp/ipykernel_21795/4114982422.py:1: DtypeWarning: Columns (19,55) have mixed types. Specify dtype option on import or set low_memory=False.\n",
      "  df = pd.read_csv(path)\n"
     ]
    }
   ],
   "source": [
    "df = pd.read_csv(path)\n",
    "df = df.sample(n=80000, random_state=99)"
   ]
  },
  {
   "cell_type": "markdown",
   "metadata": {
    "id": "O9QE1ha29kNw"
   },
   "source": [
    "## Preprocessing"
   ]
  },
  {
   "cell_type": "code",
   "execution_count": 723,
   "metadata": {
    "colab": {
     "base_uri": "https://localhost:8080/"
    },
    "id": "xqdDmbdL9kNw",
    "outputId": "9cb70f5c-a509-4765-e8a6-7aa3f494b59a"
   },
   "outputs": [
    {
     "data": {
      "text/plain": [
       "Index(['id', 'member_id', 'loan_amnt', 'funded_amnt', 'funded_amnt_inv',\n",
       "       'term', 'int_rate', 'installment', 'grade', 'sub_grade', 'emp_title',\n",
       "       'emp_length', 'home_ownership', 'annual_inc', 'verification_status',\n",
       "       'issue_d', 'loan_status', 'pymnt_plan', 'url', 'desc', 'purpose',\n",
       "       'title', 'zip_code', 'addr_state', 'dti', 'delinq_2yrs',\n",
       "       'earliest_cr_line', 'inq_last_6mths', 'mths_since_last_delinq',\n",
       "       'mths_since_last_record', 'open_acc', 'pub_rec', 'revol_bal',\n",
       "       'revol_util', 'total_acc', 'initial_list_status', 'out_prncp',\n",
       "       'out_prncp_inv', 'total_pymnt', 'total_pymnt_inv', 'total_rec_prncp',\n",
       "       'total_rec_int', 'total_rec_late_fee', 'recoveries',\n",
       "       'collection_recovery_fee', 'last_pymnt_d', 'last_pymnt_amnt',\n",
       "       'next_pymnt_d', 'last_credit_pull_d', 'collections_12_mths_ex_med',\n",
       "       'mths_since_last_major_derog', 'policy_code', 'application_type',\n",
       "       'annual_inc_joint', 'dti_joint', 'verification_status_joint',\n",
       "       'acc_now_delinq', 'tot_coll_amt', 'tot_cur_bal', 'open_acc_6m',\n",
       "       'open_il_6m', 'open_il_12m', 'open_il_24m', 'mths_since_rcnt_il',\n",
       "       'total_bal_il', 'il_util', 'open_rv_12m', 'open_rv_24m', 'max_bal_bc',\n",
       "       'all_util', 'total_rev_hi_lim', 'inq_fi', 'total_cu_tl',\n",
       "       'inq_last_12m'],\n",
       "      dtype='object')"
      ]
     },
     "execution_count": 723,
     "metadata": {},
     "output_type": "execute_result"
    }
   ],
   "source": [
    "df.columns"
   ]
  },
  {
   "cell_type": "markdown",
   "metadata": {
    "id": "gB3GwaRZ9kNw"
   },
   "source": [
    "Select columns"
   ]
  },
  {
   "cell_type": "code",
   "execution_count": 724,
   "metadata": {
    "id": "iJwy_i499kNw"
   },
   "outputs": [],
   "source": [
    "df_select = [\n",
    "    \"loan_status\",  # e\n",
    "    #\n",
    "    'addr_state',\n",
    "    \"annual_inc\",\n",
    "    \"annual_inc_joint\",\n",
    "    #'application_type',\n",
    "    \"collection_recovery_fee\",\n",
    "    \"collections_12_mths_ex_med\",\n",
    "    \"dti\",\n",
    "    \"dti_joint\",\n",
    "    'earliest_cr_line', # d\n",
    "    \"emp_length\",  # e\n",
    "    #'fico_range_high',\n",
    "    #'fico_range_low',\n",
    "    #'grade',\n",
    "    \"home_ownership\",  # e\n",
    "    #'is_inc_v',\n",
    "    'issue_d', # d\n",
    "    #'last_fico_range_high',\n",
    "    #'last_fico_range_low',\n",
    "    \"loan_amnt\",\n",
    "    \"open_acc\",\n",
    "    \"pub_rec\",\n",
    "    \"purpose\",\n",
    "    \"recoveries\",  #!!!\n",
    "    \"sub_grade\",  # e\n",
    "    \"verification_status\",  # e\n",
    "    #'verified_status_joint',\n",
    "    'zip_code', # e\n",
    "    \"open_acc_6m\",\n",
    "    \"open_il_6m\",\n",
    "    \"open_il_12m\",\n",
    "    \"open_il_24m\",\n",
    "    \"mths_since_rcnt_il\",\n",
    "    \"total_bal_il\",\n",
    "    \"il_util\",\n",
    "    \"open_rv_12m\",\n",
    "    \"open_rv_24m\",\n",
    "    \"max_bal_bc\",\n",
    "    \"all_util\",\n",
    "    \"total_rev_hi_lim\",\n",
    "    #'inq_fi',\n",
    "    #'total_cu_tl',\n",
    "    #'inq_last_12m',\n",
    "    \"acc_now_delinq\",\n",
    "    \"tot_coll_amt\",\n",
    "    \"tot_cur_bal\",\n",
    "]\n",
    "\n",
    "df = df[df_select]"
   ]
  },
  {
   "cell_type": "code",
   "execution_count": 725,
   "metadata": {
    "colab": {
     "base_uri": "https://localhost:8080/"
    },
    "id": "e8pkNABX9kNx",
    "outputId": "734dacd2-5f57-4dcc-841a-67d8db6d4885"
   },
   "outputs": [
    {
     "data": {
      "text/plain": [
       "Index(['loan_status', 'addr_state', 'annual_inc', 'annual_inc_joint',\n",
       "       'collection_recovery_fee', 'collections_12_mths_ex_med', 'dti',\n",
       "       'dti_joint', 'earliest_cr_line', 'emp_length', 'home_ownership',\n",
       "       'issue_d', 'loan_amnt', 'open_acc', 'pub_rec', 'purpose', 'recoveries',\n",
       "       'sub_grade', 'verification_status', 'zip_code', 'open_acc_6m',\n",
       "       'open_il_6m', 'open_il_12m', 'open_il_24m', 'mths_since_rcnt_il',\n",
       "       'total_bal_il', 'il_util', 'open_rv_12m', 'open_rv_24m', 'max_bal_bc',\n",
       "       'all_util', 'total_rev_hi_lim', 'acc_now_delinq', 'tot_coll_amt',\n",
       "       'tot_cur_bal'],\n",
       "      dtype='object')"
      ]
     },
     "execution_count": 725,
     "metadata": {},
     "output_type": "execute_result"
    }
   ],
   "source": [
    "df.columns"
   ]
  },
  {
   "cell_type": "markdown",
   "metadata": {
    "id": "53N_Hd4O9kNx"
   },
   "source": [
    "List **numerical data**"
   ]
  },
  {
   "cell_type": "code",
   "execution_count": 726,
   "metadata": {
    "colab": {
     "base_uri": "https://localhost:8080/"
    },
    "id": "OE70uDER9kNx",
    "outputId": "3bd2b662-3fb8-4e19-9c14-01b6c4201f56"
   },
   "outputs": [
    {
     "data": {
      "text/plain": [
       "['annual_inc',\n",
       " 'annual_inc_joint',\n",
       " 'collection_recovery_fee',\n",
       " 'collections_12_mths_ex_med',\n",
       " 'dti',\n",
       " 'dti_joint',\n",
       " 'loan_amnt',\n",
       " 'open_acc',\n",
       " 'pub_rec',\n",
       " 'recoveries',\n",
       " 'open_acc_6m',\n",
       " 'open_il_6m',\n",
       " 'open_il_12m',\n",
       " 'open_il_24m',\n",
       " 'mths_since_rcnt_il',\n",
       " 'total_bal_il',\n",
       " 'il_util',\n",
       " 'open_rv_12m',\n",
       " 'open_rv_24m',\n",
       " 'max_bal_bc',\n",
       " 'all_util',\n",
       " 'total_rev_hi_lim',\n",
       " 'acc_now_delinq',\n",
       " 'tot_coll_amt',\n",
       " 'tot_cur_bal']"
      ]
     },
     "execution_count": 726,
     "metadata": {},
     "output_type": "execute_result"
    }
   ],
   "source": [
    "df.select_dtypes(include=[np.number]).columns.tolist()"
   ]
  },
  {
   "cell_type": "markdown",
   "metadata": {
    "id": "X7cqHXPX9kNx"
   },
   "source": [
    "List **non numerical data**"
   ]
  },
  {
   "cell_type": "code",
   "execution_count": 727,
   "metadata": {
    "colab": {
     "base_uri": "https://localhost:8080/"
    },
    "id": "1AJu1ngf9kNx",
    "outputId": "f49b33f0-2e3f-4303-9443-54c6636453b9"
   },
   "outputs": [
    {
     "data": {
      "text/plain": [
       "['loan_status',\n",
       " 'addr_state',\n",
       " 'earliest_cr_line',\n",
       " 'emp_length',\n",
       " 'home_ownership',\n",
       " 'issue_d',\n",
       " 'purpose',\n",
       " 'sub_grade',\n",
       " 'verification_status',\n",
       " 'zip_code']"
      ]
     },
     "execution_count": 727,
     "metadata": {},
     "output_type": "execute_result"
    }
   ],
   "source": [
    "df.select_dtypes(include=[\"object\"]).columns.tolist()"
   ]
  },
  {
   "cell_type": "markdown",
   "metadata": {
    "id": "KxPhnetP9kNy"
   },
   "source": [
    "Encode `loan_status` and remove rows containing \"Issued\""
   ]
  },
  {
   "cell_type": "code",
   "execution_count": 728,
   "metadata": {
    "colab": {
     "base_uri": "https://localhost:8080/",
     "height": 429
    },
    "id": "k1A5yRca9kNy",
    "outputId": "f60407dc-e01d-43e9-c7dc-0dfa64da1897"
   },
   "outputs": [
    {
     "data": {
      "text/plain": [
       "loan_status\n",
       "Current                                                601779\n",
       "Fully Paid                                             207723\n",
       "Charged Off                                             45248\n",
       "Late (31-120 days)                                      11591\n",
       "Issued                                                   8460\n",
       "In Grace Period                                          6253\n",
       "Late (16-30 days)                                        2357\n",
       "Does not meet the credit policy. Status:Fully Paid       1988\n",
       "Default                                                  1219\n",
       "Does not meet the credit policy. Status:Charged Off       761\n",
       "Name: count, dtype: int64"
      ]
     },
     "execution_count": 728,
     "metadata": {},
     "output_type": "execute_result"
    }
   ],
   "source": [
    "df[\"loan_status\"].value_counts()"
   ]
  },
  {
   "cell_type": "code",
   "execution_count": 729,
   "metadata": {},
   "outputs": [],
   "source": [
    "df = df[df[\"loan_status\"].str.lower() != \"issued\"]"
   ]
  },
  {
   "cell_type": "code",
   "execution_count": 730,
   "metadata": {
    "id": "d-3oFzn59kNy"
   },
   "outputs": [],
   "source": [
    "# loan_target:\n",
    "# 0: bad\n",
    "# 1: good\n",
    "\n",
    "df_loan_status_good = [\n",
    "    \"current\",\n",
    "    \"fully paid\",\n",
    "    \"in grace period\",\n",
    "]\n",
    "\n",
    "\n",
    "def df_loan_status_map(x):\n",
    "    return 1 if x.lower() in df_loan_status_good else 0\n",
    "\n",
    "\n",
    "df[\"loan_target\"] = df[\"loan_status\"].map(df_loan_status_map).fillna(0)"
   ]
  },
  {
   "cell_type": "code",
   "execution_count": 731,
   "metadata": {
    "id": "DIW4_wZp9kNy"
   },
   "outputs": [],
   "source": [
    "df.drop(\"loan_status\", axis=1, inplace=True)"
   ]
  },
  {
   "cell_type": "markdown",
   "metadata": {},
   "source": [
    "Target encode `addr_state`"
   ]
  },
  {
   "cell_type": "code",
   "execution_count": 732,
   "metadata": {},
   "outputs": [],
   "source": [
    "# Calculate the mean of the target variable for each state\n",
    "df_state_target_mean = df.groupby(\"addr_state\")[\"loan_target\"].mean()\n",
    "\n",
    "# Map these means back to the original dataframe\n",
    "df[\"addr_state\"] = df[\"addr_state\"].map(df_state_target_mean)"
   ]
  },
  {
   "cell_type": "markdown",
   "metadata": {},
   "source": [
    "Map timespan between `earliest_cr_line` and `issue_d`"
   ]
  },
  {
   "cell_type": "code",
   "execution_count": 733,
   "metadata": {},
   "outputs": [],
   "source": [
    "df_date_columns = ['issue_d','earliest_cr_line']\n",
    "for col in df_date_columns:\n",
    "    df[col] = pd.to_datetime(df[col], format='%b-%Y')"
   ]
  },
  {
   "cell_type": "code",
   "execution_count": 734,
   "metadata": {},
   "outputs": [],
   "source": [
    "df['earliest_cr_line_timespan'] = df['issue_d'] - df['earliest_cr_line']\n",
    "df['earliest_cr_line_timespan'] = df['earliest_cr_line_timespan'].dt.days / 365.25"
   ]
  },
  {
   "cell_type": "code",
   "execution_count": 735,
   "metadata": {},
   "outputs": [],
   "source": [
    "df.drop(df_date_columns, axis=1, inplace=True)"
   ]
  },
  {
   "cell_type": "markdown",
   "metadata": {
    "id": "USjeiwdK9kNz"
   },
   "source": [
    "Encode `emp_length`"
   ]
  },
  {
   "cell_type": "code",
   "execution_count": 736,
   "metadata": {
    "colab": {
     "base_uri": "https://localhost:8080/"
    },
    "id": "nQy0IoKx9kNz",
    "outputId": "8813a705-c1d7-49e0-b898-cfe533bef25c"
   },
   "outputs": [
    {
     "data": {
      "text/plain": [
       "array(['10+ years', '< 1 year', '1 year', '3 years', '8 years', '9 years',\n",
       "       '4 years', '5 years', '6 years', '2 years', '7 years', nan],\n",
       "      dtype=object)"
      ]
     },
     "execution_count": 736,
     "metadata": {},
     "output_type": "execute_result"
    }
   ],
   "source": [
    "df[\"emp_length\"].unique()"
   ]
  },
  {
   "cell_type": "code",
   "execution_count": 737,
   "metadata": {
    "id": "LJB8NnZB9kNz"
   },
   "outputs": [],
   "source": [
    "def df_emp_length_map(s):\n",
    "    if s.lower() == \"< 1 year\":\n",
    "        return 0\n",
    "\n",
    "    m = re.search(r\"\\d+\", s)\n",
    "    return int(m.group()) if m else 0\n",
    "\n",
    "\n",
    "df[\"emp_length\"] = df[\"emp_length\"].map(df_emp_length_map, na_action=\"ignore\").fillna(0)"
   ]
  },
  {
   "cell_type": "markdown",
   "metadata": {
    "id": "b7lx6RRP9kNz"
   },
   "source": [
    "One hot encode `home_ownership`"
   ]
  },
  {
   "cell_type": "code",
   "execution_count": 738,
   "metadata": {
    "id": "ZZ0hBWpV9kNz"
   },
   "outputs": [],
   "source": [
    "df = pd.get_dummies(df, columns=[\"home_ownership\"], drop_first=True)"
   ]
  },
  {
   "cell_type": "markdown",
   "metadata": {
    "id": "dmQhY_KA9kNz"
   },
   "source": [
    "Target encode `purpose`"
   ]
  },
  {
   "cell_type": "code",
   "execution_count": 739,
   "metadata": {
    "id": "zh5TDxab9kNz"
   },
   "outputs": [],
   "source": [
    "# Calculate the mean of the target variable for each category in the 'purpose' column\n",
    "df_purpose_target_mean = df.groupby(\"purpose\")[\"loan_target\"].mean()\n",
    "\n",
    "# Map these means back to the originissue_dal dataframe\n",
    "df[\"purpose\"] = df[\"purpose\"].map(df_purpose_target_mean)"
   ]
  },
  {
   "cell_type": "markdown",
   "metadata": {
    "id": "NNiVuKDk9kN0"
   },
   "source": [
    "Encode `subgrade`"
   ]
  },
  {
   "cell_type": "code",
   "execution_count": 740,
   "metadata": {
    "colab": {
     "base_uri": "https://localhost:8080/"
    },
    "id": "Per-grAY9kN0",
    "outputId": "6d44a3cc-bda8-4bf6-c591-f52c375085f8"
   },
   "outputs": [
    {
     "data": {
      "text/plain": [
       "array(['B2', 'C4', 'C5', 'C1', 'B5', 'A4', 'E1', 'F2', 'C3', 'B1', 'D1',\n",
       "       'A1', 'B3', 'B4', 'C2', 'D2', 'A3', 'A5', 'D5', 'A2', 'E4', 'D3',\n",
       "       'D4', 'F3', 'E3', 'F4', 'F1', 'E5', 'G4', 'E2', 'G3', 'G2', 'G1',\n",
       "       'F5', 'G5'], dtype=object)"
      ]
     },
     "execution_count": 740,
     "metadata": {},
     "output_type": "execute_result"
    }
   ],
   "source": [
    "df[\"sub_grade\"].unique()"
   ]
  },
  {
   "cell_type": "code",
   "execution_count": 741,
   "metadata": {
    "id": "nllUq3279kN0"
   },
   "outputs": [],
   "source": [
    "def df_sub_grade_map(s):\n",
    "    return (ord(s[0]) - ord(\"A\") + 1) + (int(s[1]) - 1) / 5\n",
    "\n",
    "\n",
    "df[\"sub_grade\"] = df[\"sub_grade\"].map(df_sub_grade_map)"
   ]
  },
  {
   "cell_type": "markdown",
   "metadata": {
    "id": "0xQgeqHb9kN0"
   },
   "source": [
    "One hot encode `verification_status`"
   ]
  },
  {
   "cell_type": "code",
   "execution_count": 742,
   "metadata": {
    "id": "UixCc-GM9kN0"
   },
   "outputs": [],
   "source": [
    "df = pd.get_dummies(df, columns=[\"verification_status\"], drop_first=True)"
   ]
  },
  {
   "cell_type": "markdown",
   "metadata": {},
   "source": [
    "Encode `zip_code`"
   ]
  },
  {
   "cell_type": "code",
   "execution_count": 743,
   "metadata": {},
   "outputs": [],
   "source": [
    "# Extract the first two digits of the zip code\n",
    "df['zip_code_group'] = df['zip_code'].apply(lambda x: x[:2])\n",
    "\n",
    "# Calculate the mean of the target variable for each zip code group\n",
    "df_zip_code_target_mean = df.groupby('zip_code_group')['loan_target'].mean()\n",
    "\n",
    "# Map these means back to the original dataframe\n",
    "df['zip_code'] = df['zip_code_group'].map(df_zip_code_target_mean)\n",
    "\n",
    "# Drop the temporary zip_code_group column\n",
    "df.drop('zip_code_group', axis=1, inplace=True)"
   ]
  },
  {
   "cell_type": "code",
   "execution_count": 744,
   "metadata": {},
   "outputs": [
    {
     "data": {
      "text/plain": [
       "0    0.911817\n",
       "1    0.934189\n",
       "2    0.939034\n",
       "3    0.917409\n",
       "4    0.934549\n",
       "Name: zip_code, dtype: float64"
      ]
     },
     "execution_count": 744,
     "metadata": {},
     "output_type": "execute_result"
    }
   ],
   "source": [
    "df[\"zip_code\"].head()"
   ]
  },
  {
   "cell_type": "markdown",
   "metadata": {
    "id": "UnOxvtc79kN0"
   },
   "source": [
    "Mark missing"
   ]
  },
  {
   "cell_type": "code",
   "execution_count": 745,
   "metadata": {
    "id": "HAMHkGwR9kN1"
   },
   "outputs": [],
   "source": [
    "for c in [\n",
    "    \"open_acc_6m\",\n",
    "    \"open_il_6m\",\n",
    "    \"open_il_12m\",\n",
    "    \"open_il_24m\",\n",
    "    \"mths_since_rcnt_il\",\n",
    "    \"total_bal_il\",\n",
    "    \"il_util\",\n",
    "    \"open_rv_12m\",\n",
    "    \"open_rv_24m\",\n",
    "    \"max_bal_bc\",\n",
    "    \"all_util\",\n",
    "    \"total_rev_hi_lim\",\n",
    "]:\n",
    "    df[f\"{c}_m\"] = df[c].apply(lambda x: 0 if pd.isna(x) else 1)"
   ]
  },
  {
   "cell_type": "markdown",
   "metadata": {
    "id": "qkpUZHbf9kN1"
   },
   "source": [
    "Fill missing"
   ]
  },
  {
   "cell_type": "code",
   "execution_count": 746,
   "metadata": {
    "id": "GPh8LdRF9kN5"
   },
   "outputs": [],
   "source": [
    "def df_fillna_with_median(c):\n",
    "    df.fillna({c: df[c].median()}, inplace=True)\n",
    "\n",
    "\n",
    "def df_fillna_with_median_of_loan(c):\n",
    "    median_good = df[df[\"loan_target\"] == 1][c].median()\n",
    "    median_bad = df[df[\"loan_target\"] == 0][c].median()\n",
    "\n",
    "    for index, row in df[df[c].isnull()].iterrows():\n",
    "        if row[\"loan_target\"] == 1:\n",
    "            df.at[index, c] = median_good\n",
    "        else:\n",
    "            df.at[index, c] = median_bad"
   ]
  },
  {
   "cell_type": "code",
   "execution_count": 747,
   "metadata": {
    "id": "deJEiHCM9kN5"
   },
   "outputs": [],
   "source": [
    "df_fillna_with_median_of_loan(\"annual_inc\")\n",
    "df.fillna({\"annual_inc_joint\": 0}, inplace=True)\n",
    "assert df[\"collection_recovery_fee\"].isnull().sum() == 0\n",
    "df.fillna({\"collections_12_mths_ex_med\": 0}, inplace=True)\n",
    "assert df[\"dti\"].isnull().sum() == 0\n",
    "df.fillna({\"dti_joint\": 0}, inplace=True)\n",
    "assert df[\"loan_amnt\"].isnull().sum() == 0\n",
    "df_fillna_with_median_of_loan(\"open_acc\")\n",
    "df.fillna({\"pub_rec\": 0}, inplace=True)\n",
    "assert df[\"recoveries\"].isnull().sum() == 0\n",
    "df_fillna_with_median_of_loan(\"earliest_cr_line_timespan\")\n",
    "df.fillna({\"open_acc_6m\": -1}, inplace=True)  # m\n",
    "df.fillna({\"open_il_6m\": -1}, inplace=True)  # m\n",
    "df.fillna({\"open_il_12m\": -1}, inplace=True)  # m\n",
    "df.fillna({\"open_il_24m\": -1}, inplace=True)  # m\n",
    "df.fillna({\"mths_since_rcnt_il\": -1}, inplace=True)  # m\n",
    "df.fillna({\"total_bal_il\": -1}, inplace=True)  # m\n",
    "df.fillna({\"il_util\": -1}, inplace=True)  # m\n",
    "df.fillna({\"open_rv_12m\": -1}, inplace=True)  # m\n",
    "df.fillna({\"open_rv_24m\": -1}, inplace=True)  # m\n",
    "df.fillna({\"max_bal_bc\": -1}, inplace=True)  # m\n",
    "df.fillna({\"all_util\": -1}, inplace=True)  # m\n",
    "df.fillna({\"total_rev_hi_lim\": 0}, inplace=True)\n",
    "df_fillna_with_median(\"acc_now_delinq\")\n",
    "df_fillna_with_median_of_loan(\"tot_coll_amt\")\n",
    "df_fillna_with_median_of_loan(\"tot_cur_bal\")"
   ]
  },
  {
   "cell_type": "markdown",
   "metadata": {
    "id": "XvyUuzMn9kN5"
   },
   "source": [
    "Mark missing and delete"
   ]
  },
  {
   "cell_type": "code",
   "execution_count": 748,
   "metadata": {
    "id": "I_c7uJuu9kN5"
   },
   "outputs": [],
   "source": [
    "def df_mark(columns):\n",
    "    for c in columns:\n",
    "        df[f\"{c}_m\"] = df[c].apply(lambda x: 0 if pd.isna(x) else 1)\n",
    "\n",
    "\n",
    "df_mark([])"
   ]
  },
  {
   "cell_type": "markdown",
   "metadata": {
    "id": "Xs3L9z_59kN6"
   },
   "source": [
    "Print columns with incomplete values"
   ]
  },
  {
   "cell_type": "code",
   "execution_count": 749,
   "metadata": {
    "colab": {
     "base_uri": "https://localhost:8080/"
    },
    "id": "Vcqe5HSU9kN6",
    "outputId": "039c7b80-8013-4574-b2ad-6cbc8738e0dd"
   },
   "outputs": [
    {
     "name": "stdout",
     "output_type": "stream",
     "text": [
      "[]\n"
     ]
    }
   ],
   "source": [
    "print(df.columns[df.isnull().any()].tolist())"
   ]
  },
  {
   "cell_type": "markdown",
   "metadata": {
    "id": "hCMmTlLj9kN6"
   },
   "source": [
    "Ensure all cells are valid"
   ]
  },
  {
   "cell_type": "code",
   "execution_count": 750,
   "metadata": {
    "id": "jW0aHkqK9kN6"
   },
   "outputs": [],
   "source": [
    "assert df.isnull().sum().sum() == 0, \"DataFrame contains NaN values\""
   ]
  },
  {
   "cell_type": "markdown",
   "metadata": {
    "id": "PpenrvVA9kN6"
   },
   "source": [
    "## Analysis"
   ]
  },
  {
   "cell_type": "markdown",
   "metadata": {
    "id": "jZUBX6XL9kN6"
   },
   "source": [
    "Amount of good vs bad loans"
   ]
  },
  {
   "cell_type": "code",
   "execution_count": 751,
   "metadata": {
    "colab": {
     "base_uri": "https://localhost:8080/",
     "height": 428
    },
    "id": "OWh35aD89kN6",
    "outputId": "e3e3d76a-fe9c-4fde-d34c-f220f97cb500"
   },
   "outputs": [
    {
     "data": {
      "image/png": "[encoded data removed]",
      "text/plain": [
       "<Figure size 640x480 with 1 Axes>"
      ]
     },
     "metadata": {},
     "output_type": "display_data"
    }
   ],
   "source": [
    "loan_target_counts = df[\"loan_target\"].value_counts(normalize=True) * 100\n",
    "loan_target_counts.plot(\n",
    "    kind=\"pie\",\n",
    "    autopct=\"%1.1f%%\",\n",
    "    labels=[\"Good Loans\", \"Bad Loans\"],\n",
    "    colors=[\"#66b3ff\", \"#ff9999\"],\n",
    "    startangle=90,\n",
    ")\n",
    "plt.title(\"Percentage of Loan Targets\")\n",
    "plt.ylabel(\"\")\n",
    "plt.show()"
   ]
  },
  {
   "cell_type": "markdown",
   "metadata": {},
   "source": [
    "Percentage of good / bad loans by state"
   ]
  },
  {
   "cell_type": "code",
   "execution_count": null,
   "metadata": {
    "vscode": {
     "languageId": "r"
    }
   },
   "outputs": [],
   "source": [
    "# Calculate the percentage of good/bad loans by state\n",
    "state_loan_target = df.groupby(\"addr_state\")[\"loan_target\"].value_counts(normalize=True).unstack() * 100\n",
    "\n",
    "# Plot the bar plot\n",
    "state_loan_target.plot(kind=\"bar\", stacked=True, color=[\"#ff9999\", \"#66b3ff\"])\n",
    "plt.title(\"Percentage of Good/Bad Loans by State\")\n",
    "plt.xlabel(\"State\")\n",
    "plt.ylabel(\"Percentage\")\n",
    "plt.legend([\"Bad Loans\", \"Good Loans\"], loc=\"upper right\")\n",
    "plt.show()"
   ]
  },
  {
   "cell_type": "code",
   "execution_count": 752,
   "metadata": {},
   "outputs": [
    {
     "data": {
      "image/png": "[encoded data removed]",
      "text/plain": [
       "<Figure size 1000x600 with 1 Axes>"
      ]
     },
     "metadata": {},
     "output_type": "display_data"
    }
   ],
   "source": [
    "plt.figure(figsize=(10, 6))\n",
    "plt.hist(df['earliest_cr_line_timespan'], bins=50, color='skyblue', edgecolor='black')\n",
    "plt.xlabel('Timespan (days)')\n",
    "plt.ylabel('Frequency')\n",
    "plt.title('Distribution of Earliest Credit Line Timespan')\n",
    "plt.show()"
   ]
  },
  {
   "cell_type": "code",
   "execution_count": 753,
   "metadata": {},
   "outputs": [
    {
     "data": {
      "image/png": "[encoded data removed]",
      "text/plain": [
       "<Figure size 500x600 with 1 Axes>"
      ]
     },
     "metadata": {},
     "output_type": "display_data"
    }
   ],
   "source": [
    "plt.figure(figsize=(5, 6))\n",
    "sns.violinplot(x='loan_target', y='earliest_cr_line_timespan', data=df, hue='loan_target', palette='Set2', legend=False)\n",
    "plt.ylim(0, 36)\n",
    "plt.xlabel('Loan Target')\n",
    "plt.ylabel('Earliest Credit Line Timespan (years)')\n",
    "plt.title('Violin Plot of Loan Target vs Earliest Credit Line Timespan')\n",
    "plt.show()"
   ]
  },
  {
   "cell_type": "markdown",
   "metadata": {
    "id": "RTuvEYt49kN7"
   },
   "source": [
    "## Lab Model"
   ]
  },
  {
   "cell_type": "markdown",
   "metadata": {
    "id": "7ALb6Oul9kN7"
   },
   "source": [
    "Split Data"
   ]
  },
  {
   "cell_type": "code",
   "execution_count": 754,
   "metadata": {
    "id": "Vp6quFD39kN7"
   },
   "outputs": [],
   "source": [
    "from sklearn.model_selection import train_test_split\n",
    "\n",
    "# Define features and target\n",
    "X = df.drop([\"loan_target\"], axis=1)\n",
    "y = df[\"loan_target\"]\n",
    "\n",
    "# Split the data into training and testing sets\n",
    "X_train, X_test, y_train, y_test = train_test_split(\n",
    "    X, y, test_size=0.2, random_state=99\n",
    ")"
   ]
  },
  {
   "cell_type": "markdown",
   "metadata": {
    "id": "P77xQXqP9kN7"
   },
   "source": [
    "Create and train decision tree"
   ]
  },
  {
   "cell_type": "code",
   "execution_count": 761,
   "metadata": {
    "id": "8HfBe5tm9kN7"
   },
   "outputs": [],
   "source": [
    "from sklearn.ensemble import RandomForestClassifier\n",
    "\n",
    "# Create and train the random forest classifier\n",
    "clf = RandomForestClassifier(random_state=99, n_estimators=300, max_depth=15)#, class_weight='balanced')\n",
    "clf.fit(X_train, y_train)\n",
    "\n",
    "# Predict on the test data\n",
    "clf_y_pred = clf.predict(X_test)"
   ]
  },
  {
   "cell_type": "markdown",
   "metadata": {
    "id": "XrD3XlD19kN8"
   },
   "source": [
    "Create dummy classifier"
   ]
  },
  {
   "cell_type": "code",
   "execution_count": 762,
   "metadata": {
    "id": "hVJ6AJOG9kN8"
   },
   "outputs": [],
   "source": [
    "from sklearn.dummy import DummyClassifier\n",
    "\n",
    "# Create and train the dummy classifier\n",
    "dummy_clf = DummyClassifier(strategy=\"most_frequent\", random_state=99)\n",
    "dummy_clf.fit(X_train, y_train)\n",
    "\n",
    "# Predict on the test data\n",
    "dummy_y_pred = dummy_clf.predict(X_test)"
   ]
  },
  {
   "cell_type": "markdown",
   "metadata": {
    "id": "zKOD9VV-9kN8"
   },
   "source": [
    "### Classification Report"
   ]
  },
  {
   "cell_type": "code",
   "execution_count": 763,
   "metadata": {
    "id": "rksWJ29M9kN8"
   },
   "outputs": [],
   "source": [
    "from sklearn.metrics import classification_report"
   ]
  },
  {
   "cell_type": "code",
   "execution_count": 764,
   "metadata": {
    "colab": {
     "base_uri": "https://localhost:8080/"
    },
    "id": "1AwZ_UXi9kN8",
    "outputId": "40f4084b-997c-47f0-8889-460862e3d02e"
   },
   "outputs": [
    {
     "name": "stdout",
     "output_type": "stream",
     "text": [
      "              precision    recall  f1-score   support\n",
      "\n",
      "   Bad Loans       1.00      0.46      0.63     12639\n",
      "  Good Loans       0.96      1.00      0.98    163145\n",
      "\n",
      "    accuracy                           0.96    175784\n",
      "   macro avg       0.98      0.73      0.81    175784\n",
      "weighted avg       0.96      0.96      0.95    175784\n",
      "\n"
     ]
    }
   ],
   "source": [
    "# Generate the classification report\n",
    "report = classification_report(\n",
    "    y_test, clf_y_pred, target_names=[\"Bad Loans\", \"Good Loans\"]\n",
    ")\n",
    "print(report)"
   ]
  },
  {
   "cell_type": "code",
   "execution_count": 765,
   "metadata": {
    "colab": {
     "base_uri": "https://localhost:8080/"
    },
    "id": "g6nvv8Cf9kN8",
    "outputId": "f6cec412-fa28-49c0-a647-766ffc21ef02"
   },
   "outputs": [
    {
     "name": "stdout",
     "output_type": "stream",
     "text": [
      "              precision    recall  f1-score   support\n",
      "\n",
      "   Bad Loans       0.00      0.00      0.00     12639\n",
      "  Good Loans       0.93      1.00      0.96    163145\n",
      "\n",
      "    accuracy                           0.93    175784\n",
      "   macro avg       0.46      0.50      0.48    175784\n",
      "weighted avg       0.86      0.93      0.89    175784\n",
      "\n"
     ]
    }
   ],
   "source": [
    "# Evaluate the dummy classifier\n",
    "dummy_report = classification_report(\n",
    "    y_test, dummy_y_pred, target_names=[\"Bad Loans\", \"Good Loans\"], zero_division=0\n",
    ")\n",
    "print(dummy_report)"
   ]
  },
  {
   "cell_type": "markdown",
   "metadata": {
    "id": "edMnk5-G9kN9"
   },
   "source": [
    "List most important features"
   ]
  },
  {
   "cell_type": "code",
   "execution_count": 766,
   "metadata": {
    "colab": {
     "base_uri": "https://localhost:8080/",
     "height": 564
    },
    "id": "M6pfW2pk9kN9",
    "outputId": "dab8f613-e504-4083-b7c5-de2122e6c684"
   },
   "outputs": [
    {
     "data": {
      "image/png": "[encoded data removed]",
      "text/plain": [
       "<Figure size 1000x600 with 1 Axes>"
      ]
     },
     "metadata": {},
     "output_type": "display_data"
    }
   ],
   "source": [
    "# Get feature importances\n",
    "clf_importances = clf.feature_importances_\n",
    "clf_feature_names = X.columns\n",
    "\n",
    "# Create a DataFrame for visualization\n",
    "clf_feature_importances = pd.DataFrame({\n",
    "    \"Feature\": clf_feature_names,\n",
    "    \"Importance\": clf_importances,\n",
    "})\n",
    "clf_feature_importances = clf_feature_importances.sort_values(\n",
    "    by=\"Importance\", ascending=False\n",
    ").head(25)\n",
    "\n",
    "# Plot the feature importances\n",
    "plt.figure(figsize=(10, 6))\n",
    "plt.barh(\n",
    "    clf_feature_importances[\"Feature\"],\n",
    "    clf_feature_importances[\"Importance\"],\n",
    "    color=\"skyblue\",\n",
    ")\n",
    "plt.xlabel(\"Importance\")\n",
    "plt.ylabel(\"Feature\")\n",
    "plt.title(\"Top 25 Feature Importances\")\n",
    "plt.gca().invert_yaxis()\n",
    "plt.show()"
   ]
  }
 ],
 "metadata": {
  "colab": {
   "include_colab_link": true,
   "provenance": []
  },
  "kernelspec": {
   "display_name": ".venv",
   "language": "python",
   "name": "python3"
  },
  "language_info": {
   "codemirror_mode": {
    "name": "ipython",
    "version": 3
   },
   "file_extension": ".py",
   "mimetype": "text/x-python",
   "name": "python",
   "nbconvert_exporter": "python",
   "pygments_lexer": "ipython3",
   "version": "3.13.0"
  }
 },
 "nbformat": 4,
 "nbformat_minor": 0
}
