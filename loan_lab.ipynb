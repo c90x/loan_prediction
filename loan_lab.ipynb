{
 "cells": [
  {
   "cell_type": "markdown",
   "metadata": {},
   "source": [
    "# Loan Dataset - Lab"
   ]
  },
  {
   "cell_type": "markdown",
   "metadata": {},
   "source": [
    "Original Dataset: "
   ]
  },
  {
   "cell_type": "markdown",
   "metadata": {},
   "source": [
    "## Dependencies"
   ]
  },
  {
   "cell_type": "code",
   "execution_count": 60,
   "metadata": {},
   "outputs": [],
   "source": [
    "import re\n",
    "from pathlib import Path"
   ]
  },
  {
   "cell_type": "code",
   "execution_count": 61,
   "metadata": {},
   "outputs": [],
   "source": [
    "import pandas as pd\n",
    "import numpy as np\n",
    "import matplotlib.pyplot as plt"
   ]
  },
  {
   "cell_type": "markdown",
   "metadata": {},
   "source": [
    "Configure theme"
   ]
  },
  {
   "cell_type": "code",
   "execution_count": 62,
   "metadata": {},
   "outputs": [],
   "source": [
    "plt.style.use('dark_background')"
   ]
  },
  {
   "cell_type": "markdown",
   "metadata": {},
   "source": [
    "**Download** dataset from Kaggle"
   ]
  },
  {
   "cell_type": "code",
   "execution_count": 63,
   "metadata": {},
   "outputs": [
    {
     "name": "stdout",
     "output_type": "stream",
     "text": [
      "Downloaded dataset to path: /home/cube/.cache/kagglehub/datasets/ranadeep/credit-risk-dataset/versions/3/loan/loan.csv\n"
     ]
    }
   ],
   "source": [
    "import kagglehub\n",
    "\n",
    "# Download latest version\n",
    "path = Path(kagglehub.dataset_download(\"ranadeep/credit-risk-dataset\"))\n",
    "\n",
    "path = path / \"loan\" / \"loan.csv\"\n",
    "\n",
    "assert path.exists()\n",
    "assert path.is_file()\n",
    "\n",
    "print(\"Downloaded dataset to path:\", path)"
   ]
  },
  {
   "cell_type": "markdown",
   "metadata": {},
   "source": [
    "Load dataset"
   ]
  },
  {
   "cell_type": "code",
   "execution_count": 64,
   "metadata": {},
   "outputs": [
    {
     "name": "stderr",
     "output_type": "stream",
     "text": [
      "/tmp/ipykernel_105637/1174564914.py:1: DtypeWarning: Columns (19,55) have mixed types. Specify dtype option on import or set low_memory=False.\n",
      "  df = pd.read_csv(path)\n"
     ]
    }
   ],
   "source": [
    "df = pd.read_csv(path)\n",
    "df = df.sample(n=50000, random_state=99)"
   ]
  },
  {
   "cell_type": "markdown",
   "metadata": {},
   "source": [
    "## Preprocessing"
   ]
  },
  {
   "cell_type": "code",
   "execution_count": 65,
   "metadata": {},
   "outputs": [
    {
     "name": "stdout",
     "output_type": "stream",
     "text": [
      "Index(['id', 'member_id', 'loan_amnt', 'funded_amnt', 'funded_amnt_inv',\n",
      "       'term', 'int_rate', 'installment', 'grade', 'sub_grade', 'emp_title',\n",
      "       'emp_length', 'home_ownership', 'annual_inc', 'verification_status',\n",
      "       'issue_d', 'loan_status', 'pymnt_plan', 'url', 'desc', 'purpose',\n",
      "       'title', 'zip_code', 'addr_state', 'dti', 'delinq_2yrs',\n",
      "       'earliest_cr_line', 'inq_last_6mths', 'mths_since_last_delinq',\n",
      "       'mths_since_last_record', 'open_acc', 'pub_rec', 'revol_bal',\n",
      "       'revol_util', 'total_acc', 'initial_list_status', 'out_prncp',\n",
      "       'out_prncp_inv', 'total_pymnt', 'total_pymnt_inv', 'total_rec_prncp',\n",
      "       'total_rec_int', 'total_rec_late_fee', 'recoveries',\n",
      "       'collection_recovery_fee', 'last_pymnt_d', 'last_pymnt_amnt',\n",
      "       'next_pymnt_d', 'last_credit_pull_d', 'collections_12_mths_ex_med',\n",
      "       'mths_since_last_major_derog', 'policy_code', 'application_type',\n",
      "       'annual_inc_joint', 'dti_joint', 'verification_status_joint',\n",
      "       'acc_now_delinq', 'tot_coll_amt', 'tot_cur_bal', 'open_acc_6m',\n",
      "       'open_il_6m', 'open_il_12m', 'open_il_24m', 'mths_since_rcnt_il',\n",
      "       'total_bal_il', 'il_util', 'open_rv_12m', 'open_rv_24m', 'max_bal_bc',\n",
      "       'all_util', 'total_rev_hi_lim', 'inq_fi', 'total_cu_tl',\n",
      "       'inq_last_12m'],\n",
      "      dtype='object')\n"
     ]
    }
   ],
   "source": [
    "print(df.columns)"
   ]
  },
  {
   "cell_type": "markdown",
   "metadata": {},
   "source": [
    "Select columns"
   ]
  },
  {
   "cell_type": "code",
   "execution_count": 66,
   "metadata": {},
   "outputs": [],
   "source": [
    "df_select = [\n",
    "    'loan_status', #e\n",
    "    #\n",
    "\n",
    "    # 'addr_state',\n",
    "    'annual_inc',\n",
    "    'annual_inc_joint',\n",
    "    #'application_type',\n",
    "    'collection_recovery_fee',\n",
    "    'collections_12_mths_ex_med',\n",
    "    'dti',\n",
    "    'dti_joint',\n",
    "    'emp_length', #e\n",
    "    #'fico_range_high',\n",
    "    #'fico_range_low',\n",
    "    #'grade',\n",
    "    'home_ownership', #e\n",
    "    #'is_inc_v',\n",
    "    #'last_fico_range_high',\n",
    "    #'last_fico_range_low',\n",
    "    'loan_amnt',\n",
    "    'open_acc',\n",
    "    'pub_rec',\n",
    "    'purpose',\n",
    "    'recoveries', #!!!\n",
    "    'sub_grade', #e\n",
    "    'verification_status', #e\n",
    "    #'verified_status_joint',\n",
    "    'open_acc_6m',\n",
    "    'open_il_6m',\n",
    "    'open_il_12m',\n",
    "    'open_il_24m',\n",
    "    'mths_since_rcnt_il',\n",
    "    'total_bal_il',\n",
    "    'il_util',\n",
    "    'open_rv_12m',\n",
    "    'open_rv_24m',\n",
    "    'max_bal_bc',\n",
    "    'all_util',\n",
    "    'total_rev_hi_lim',\n",
    "    #'inq_fi',\n",
    "    #'total_cu_tl',\n",
    "    #'inq_last_12m',\n",
    "    'acc_now_delinq',\n",
    "    'tot_coll_amt',\n",
    "    'tot_cur_bal'\n",
    "]\n",
    "\n",
    "df = df[df_select]"
   ]
  },
  {
   "cell_type": "code",
   "execution_count": 67,
   "metadata": {},
   "outputs": [
    {
     "name": "stdout",
     "output_type": "stream",
     "text": [
      "Index(['loan_status', 'annual_inc', 'annual_inc_joint',\n",
      "       'collection_recovery_fee', 'collections_12_mths_ex_med', 'dti',\n",
      "       'dti_joint', 'emp_length', 'home_ownership', 'loan_amnt', 'open_acc',\n",
      "       'pub_rec', 'purpose', 'recoveries', 'sub_grade', 'verification_status',\n",
      "       'open_acc_6m', 'open_il_6m', 'open_il_12m', 'open_il_24m',\n",
      "       'mths_since_rcnt_il', 'total_bal_il', 'il_util', 'open_rv_12m',\n",
      "       'open_rv_24m', 'max_bal_bc', 'all_util', 'total_rev_hi_lim',\n",
      "       'acc_now_delinq', 'tot_coll_amt', 'tot_cur_bal'],\n",
      "      dtype='object')\n"
     ]
    }
   ],
   "source": [
    "print(df.columns)"
   ]
  },
  {
   "cell_type": "markdown",
   "metadata": {},
   "source": [
    "List **numerical data**"
   ]
  },
  {
   "cell_type": "code",
   "execution_count": 68,
   "metadata": {},
   "outputs": [
    {
     "data": {
      "text/plain": [
       "['annual_inc',\n",
       " 'annual_inc_joint',\n",
       " 'collection_recovery_fee',\n",
       " 'collections_12_mths_ex_med',\n",
       " 'dti',\n",
       " 'dti_joint',\n",
       " 'loan_amnt',\n",
       " 'open_acc',\n",
       " 'pub_rec',\n",
       " 'recoveries',\n",
       " 'open_acc_6m',\n",
       " 'open_il_6m',\n",
       " 'open_il_12m',\n",
       " 'open_il_24m',\n",
       " 'mths_since_rcnt_il',\n",
       " 'total_bal_il',\n",
       " 'il_util',\n",
       " 'open_rv_12m',\n",
       " 'open_rv_24m',\n",
       " 'max_bal_bc',\n",
       " 'all_util',\n",
       " 'total_rev_hi_lim',\n",
       " 'acc_now_delinq',\n",
       " 'tot_coll_amt',\n",
       " 'tot_cur_bal']"
      ]
     },
     "execution_count": 68,
     "metadata": {},
     "output_type": "execute_result"
    }
   ],
   "source": [
    "df.select_dtypes(include=[np.number]).columns.tolist()"
   ]
  },
  {
   "cell_type": "markdown",
   "metadata": {},
   "source": [
    "List **non numerical data**"
   ]
  },
  {
   "cell_type": "code",
   "execution_count": 69,
   "metadata": {},
   "outputs": [
    {
     "data": {
      "text/plain": [
       "['loan_status',\n",
       " 'emp_length',\n",
       " 'home_ownership',\n",
       " 'purpose',\n",
       " 'sub_grade',\n",
       " 'verification_status']"
      ]
     },
     "execution_count": 69,
     "metadata": {},
     "output_type": "execute_result"
    }
   ],
   "source": [
    "df.select_dtypes(include=['object']).columns.tolist()"
   ]
  },
  {
   "cell_type": "markdown",
   "metadata": {},
   "source": [
    "Encode `loan_status`"
   ]
  },
  {
   "cell_type": "code",
   "execution_count": 70,
   "metadata": {},
   "outputs": [
    {
     "data": {
      "text/plain": [
       "loan_status\n",
       "Current                                                33850\n",
       "Fully Paid                                             11794\n",
       "Charged Off                                             2493\n",
       "Late (31-120 days)                                       665\n",
       "Issued                                                   466\n",
       "In Grace Period                                          368\n",
       "Late (16-30 days)                                        134\n",
       "Does not meet the credit policy. Status:Fully Paid       114\n",
       "Default                                                   71\n",
       "Does not meet the credit policy. Status:Charged Off       45\n",
       "Name: count, dtype: int64"
      ]
     },
     "execution_count": 70,
     "metadata": {},
     "output_type": "execute_result"
    }
   ],
   "source": [
    "df['loan_status'].value_counts()"
   ]
  },
  {
   "cell_type": "code",
   "execution_count": 71,
   "metadata": {},
   "outputs": [],
   "source": [
    "# loan_target:\n",
    "# 0: bad\n",
    "# 1: good\n",
    "\n",
    "df_loan_status_good = [\n",
    "    'current',\n",
    "    'fully paid',\n",
    "    'issued',\n",
    "]\n",
    "\n",
    "def df_loan_status_map(x):\n",
    "    if 'fully paid' in x.lower(): return 1\n",
    "    return 1 if x.lower() in df_loan_status_good else 0\n",
    "\n",
    "df['loan_target'] = df['loan_status'].map(df_loan_status_map).fillna(0)"
   ]
  },
  {
   "cell_type": "code",
   "execution_count": 72,
   "metadata": {},
   "outputs": [],
   "source": [
    "df.drop('loan_status', axis=1, inplace=True)"
   ]
  },
  {
   "cell_type": "markdown",
   "metadata": {},
   "source": [
    "Encode `emp_length`"
   ]
  },
  {
   "cell_type": "code",
   "execution_count": 73,
   "metadata": {},
   "outputs": [
    {
     "data": {
      "text/plain": [
       "array(['1 year', '10+ years', '2 years', '7 years', '9 years', '6 years',\n",
       "       nan, '8 years', '3 years', '5 years', '< 1 year', '4 years'],\n",
       "      dtype=object)"
      ]
     },
     "execution_count": 73,
     "metadata": {},
     "output_type": "execute_result"
    }
   ],
   "source": [
    "df['emp_length'].unique()"
   ]
  },
  {
   "cell_type": "code",
   "execution_count": 74,
   "metadata": {},
   "outputs": [],
   "source": [
    "def df_emp_length_map(s):\n",
    "    if s.lower() == '< 1 year':\n",
    "        return 0\n",
    "    \n",
    "    m = re.search(r'\\d+', s)\n",
    "    return int(m.group()) if m else 0\n",
    "\n",
    "df['emp_length'] = df['emp_length'].map(df_emp_length_map, na_action='ignore').fillna(0)"
   ]
  },
  {
   "cell_type": "markdown",
   "metadata": {},
   "source": [
    "One hot encode `home_ownership`"
   ]
  },
  {
   "cell_type": "code",
   "execution_count": 75,
   "metadata": {},
   "outputs": [],
   "source": [
    "df = pd.get_dummies(df, columns=['home_ownership'], drop_first=True)"
   ]
  },
  {
   "cell_type": "markdown",
   "metadata": {},
   "source": [
    "Target encode `purpose`"
   ]
  },
  {
   "cell_type": "code",
   "execution_count": 76,
   "metadata": {},
   "outputs": [],
   "source": [
    "# Calculate the mean of the target variable for each category in the 'purpose' column\n",
    "df_purpose_target_mean = df.groupby('purpose')['loan_target'].mean()\n",
    "\n",
    "# Map these means back to the original dataframe\n",
    "df['purpose'] = df['purpose'].map(df_purpose_target_mean)"
   ]
  },
  {
   "cell_type": "markdown",
   "metadata": {},
   "source": [
    "Encode `subgrade`"
   ]
  },
  {
   "cell_type": "code",
   "execution_count": 77,
   "metadata": {},
   "outputs": [
    {
     "data": {
      "text/plain": [
       "array(['B3', 'A4', 'C2', 'C5', 'B5', 'D3', 'B4', 'C3', 'E1', 'E2', 'A2',\n",
       "       'C4', 'E3', 'B2', 'D5', 'E4', 'A1', 'D1', 'C1', 'A5', 'A3', 'D2',\n",
       "       'B1', 'D4', 'E5', 'F1', 'F3', 'F5', 'G4', 'F2', 'G3', 'F4', 'G1',\n",
       "       'G2', 'G5'], dtype=object)"
      ]
     },
     "execution_count": 77,
     "metadata": {},
     "output_type": "execute_result"
    }
   ],
   "source": [
    "df['sub_grade'].unique()"
   ]
  },
  {
   "cell_type": "code",
   "execution_count": 78,
   "metadata": {},
   "outputs": [],
   "source": [
    "def df_sub_grade_map(s):\n",
    "    return (ord(s[0]) - ord('A') + 1) + (int(s[1]) - 1) / 5\n",
    "\n",
    "df['sub_grade'] = df['sub_grade'].map(df_sub_grade_map)"
   ]
  },
  {
   "cell_type": "markdown",
   "metadata": {},
   "source": [
    "One hot encode `verification_status`"
   ]
  },
  {
   "cell_type": "code",
   "execution_count": 79,
   "metadata": {},
   "outputs": [],
   "source": [
    "df = pd.get_dummies(df, columns=['verification_status'], drop_first=True)"
   ]
  },
  {
   "cell_type": "markdown",
   "metadata": {},
   "source": [
    "Mark missing"
   ]
  },
  {
   "cell_type": "code",
   "execution_count": 80,
   "metadata": {},
   "outputs": [],
   "source": [
    "for c in [\n",
    "    'open_acc_6m',\n",
    "    'open_il_6m',\n",
    "    'open_il_12m',\n",
    "    'open_il_24m',\n",
    "    'mths_since_rcnt_il',\n",
    "    'total_bal_il',\n",
    "    'il_util',\n",
    "    'open_rv_12m',\n",
    "    'open_rv_24m',\n",
    "    'max_bal_bc',\n",
    "    'all_util',\n",
    "    'total_rev_hi_lim',\n",
    "]:\n",
    "    df[f\"{c}_m\"] = df[c].apply(lambda x: 0 if pd.isna(x) else 1)"
   ]
  },
  {
   "cell_type": "markdown",
   "metadata": {},
   "source": [
    "Fill missing"
   ]
  },
  {
   "cell_type": "code",
   "execution_count": 81,
   "metadata": {},
   "outputs": [],
   "source": [
    "def df_fillna_with_median(c):\n",
    "    df.fillna({c: df[c].median()}, inplace=True)\n",
    "\n",
    "def df_fillna_with_median_of_loan(c):\n",
    "    median_good = df[df['loan_target'] == 1][c].median()\n",
    "    median_bad = df[df['loan_target'] == 0][c].median()\n",
    "\n",
    "    for index, row in df[df[c].isnull()].iterrows():\n",
    "        if row['loan_target'] == 1:\n",
    "            df.at[index, c] = median_good\n",
    "        else:\n",
    "            df.at[index, c] = median_bad"
   ]
  },
  {
   "cell_type": "code",
   "execution_count": 82,
   "metadata": {},
   "outputs": [],
   "source": [
    "df_fillna_with_median_of_loan('annual_inc')\n",
    "df.fillna({'annual_inc_joint': 0}, inplace=True)\n",
    "assert df['collection_recovery_fee'].isnull().sum() == 0\n",
    "df.fillna({'collections_12_mths_ex_med': 0}, inplace=True)\n",
    "assert df['dti'].isnull().sum() == 0\n",
    "df.fillna({'dti_joint': 0}, inplace=True)\n",
    "assert df['loan_amnt'].isnull().sum() == 0\n",
    "df_fillna_with_median_of_loan('open_acc')\n",
    "df.fillna({'pub_rec': 0}, inplace=True)\n",
    "assert df['recoveries'].isnull().sum() == 0\n",
    "df.fillna({'open_acc_6m': -1}, inplace=True) #m\n",
    "df.fillna({'open_il_6m': -1}, inplace=True) #m\n",
    "df.fillna({'open_il_12m': -1}, inplace=True) #m\n",
    "df.fillna({'open_il_24m': -1}, inplace=True) #m\n",
    "df.fillna({'mths_since_rcnt_il': -1}, inplace=True) #m\n",
    "df.fillna({'total_bal_il': -1}, inplace=True) #m\n",
    "df.fillna({'il_util': -1}, inplace=True) #m\n",
    "df.fillna({'open_rv_12m': -1}, inplace=True) #m\n",
    "df.fillna({'open_rv_24m': -1}, inplace=True) #m\n",
    "df.fillna({'max_bal_bc': -1}, inplace=True) #m\n",
    "df.fillna({'all_util': -1}, inplace=True) #m\n",
    "df.fillna({'total_rev_hi_lim': 0}, inplace=True)\n",
    "df_fillna_with_median('acc_now_delinq')\n",
    "df_fillna_with_median_of_loan('tot_coll_amt')\n",
    "df_fillna_with_median_of_loan('tot_cur_bal')"
   ]
  },
  {
   "cell_type": "code",
   "execution_count": 83,
   "metadata": {},
   "outputs": [],
   "source": [
    "# for c in [\n",
    "#     'revol_util', 'tot_coll_amt', 'tot_cur_bal', 'total_rev_hi_lim', 'annual_inc', \n",
    "#     'delinq_2yrs', 'inq_last_6mths', 'open_acc', 'pub_rec', 'total_acc', 'acc_now_delinq'\n",
    "# ]:\n",
    "#     df_fillna_with_median_of_loan(c)"
   ]
  },
  {
   "cell_type": "markdown",
   "metadata": {},
   "source": [
    "Mark missing and delete"
   ]
  },
  {
   "cell_type": "code",
   "execution_count": 84,
   "metadata": {},
   "outputs": [],
   "source": [
    "def df_mark(columns):\n",
    "    for c in columns:\n",
    "        df[f\"{c}_m\"] = df[c].apply(lambda x: 0 if pd.isna(x) else 1)\n",
    "\n",
    "df_mark([])"
   ]
  },
  {
   "cell_type": "markdown",
   "metadata": {},
   "source": [
    "Print columns with incomplete values"
   ]
  },
  {
   "cell_type": "code",
   "execution_count": 85,
   "metadata": {},
   "outputs": [
    {
     "name": "stdout",
     "output_type": "stream",
     "text": [
      "[]\n"
     ]
    }
   ],
   "source": [
    "print(df.columns[df.isnull().any()].tolist())"
   ]
  },
  {
   "cell_type": "markdown",
   "metadata": {},
   "source": [
    "Ensure all cells are valid"
   ]
  },
  {
   "cell_type": "code",
   "execution_count": 86,
   "metadata": {
    "slideshow": {
     "slide_type": "skip"
    }
   },
   "outputs": [],
   "source": [
    "assert df.isnull().sum().sum() == 0, \"DataFrame contains NaN values\""
   ]
  },
  {
   "cell_type": "markdown",
   "metadata": {},
   "source": [
    "## Analysis"
   ]
  },
  {
   "cell_type": "markdown",
   "metadata": {},
   "source": [
    "Amount of good vs bad loans"
   ]
  },
  {
   "cell_type": "code",
   "execution_count": 87,
   "metadata": {},
   "outputs": [
    {
     "data": {
      "image/png": "[encoded data removed]",
      "text/plain": [
       "<Figure size 640x480 with 1 Axes>"
      ]
     },
     "metadata": {},
     "output_type": "display_data"
    }
   ],
   "source": [
    "loan_target_counts = df['loan_target'].value_counts(normalize=True) * 100\n",
    "loan_target_counts.plot(kind='pie', autopct='%1.1f%%', labels=['Good Loans', 'Bad Loans'], colors=['#66b3ff','#ff9999'], startangle=90)\n",
    "plt.title('Percentage of Loan Targets')\n",
    "plt.ylabel('')\n",
    "plt.show()"
   ]
  },
  {
   "cell_type": "markdown",
   "metadata": {},
   "source": [
    "### Lab Model"
   ]
  },
  {
   "cell_type": "markdown",
   "metadata": {},
   "source": [
    "Split Data"
   ]
  },
  {
   "cell_type": "code",
   "execution_count": 88,
   "metadata": {},
   "outputs": [],
   "source": [
    "from sklearn.model_selection import train_test_split\n",
    "\n",
    "# Define features and target\n",
    "X = df.drop(['loan_target'], axis=1)\n",
    "y = df['loan_target']\n",
    "\n",
    "# Split the data into training and testing sets\n",
    "X_train, X_test, y_train, y_test = train_test_split(\n",
    "    X, y, test_size=0.2, random_state=99)"
   ]
  },
  {
   "cell_type": "markdown",
   "metadata": {},
   "source": [
    "Create and train decision tree"
   ]
  },
  {
   "cell_type": "code",
   "execution_count": 89,
   "metadata": {},
   "outputs": [],
   "source": [
    "from sklearn.ensemble import RandomForestClassifier\n",
    "\n",
    "# Create and train the random forest classifier\n",
    "clf = RandomForestClassifier(random_state=99, n_estimators=300, max_depth=15)\n",
    "clf.fit(X_train, y_train)\n",
    "\n",
    "# Predict on the test data\n",
    "clf_y_pred = clf.predict(X_test)"
   ]
  },
  {
   "cell_type": "markdown",
   "metadata": {},
   "source": [
    "Create dummy classifier"
   ]
  },
  {
   "cell_type": "code",
   "execution_count": 90,
   "metadata": {},
   "outputs": [],
   "source": [
    "from sklearn.dummy import DummyClassifier\n",
    "\n",
    "# Create and train the dummy classifier\n",
    "dummy_clf = DummyClassifier(strategy='most_frequent', random_state=99)\n",
    "dummy_clf.fit(X_train, y_train)\n",
    "\n",
    "# Predict on the test data\n",
    "dummy_y_pred = dummy_clf.predict(X_test)"
   ]
  },
  {
   "cell_type": "markdown",
   "metadata": {},
   "source": [
    "### Classification Report"
   ]
  },
  {
   "cell_type": "code",
   "execution_count": 91,
   "metadata": {},
   "outputs": [],
   "source": [
    "from sklearn.metrics import classification_report"
   ]
  },
  {
   "cell_type": "code",
   "execution_count": 92,
   "metadata": {},
   "outputs": [
    {
     "name": "stdout",
     "output_type": "stream",
     "text": [
      "              precision    recall  f1-score   support\n",
      "\n",
      "   Bad Loans       1.00      0.41      0.58       778\n",
      "  Good Loans       0.95      1.00      0.98      9222\n",
      "\n",
      "    accuracy                           0.95     10000\n",
      "   macro avg       0.98      0.71      0.78     10000\n",
      "weighted avg       0.96      0.95      0.95     10000\n",
      "\n"
     ]
    }
   ],
   "source": [
    "# Generate the classification report\n",
    "report = classification_report(y_test, clf_y_pred, target_names=['Bad Loans', 'Good Loans'])\n",
    "print(report)"
   ]
  },
  {
   "cell_type": "code",
   "execution_count": 93,
   "metadata": {},
   "outputs": [
    {
     "name": "stdout",
     "output_type": "stream",
     "text": [
      "              precision    recall  f1-score   support\n",
      "\n",
      "   Bad Loans       0.00      0.00      0.00       778\n",
      "  Good Loans       0.92      1.00      0.96      9222\n",
      "\n",
      "    accuracy                           0.92     10000\n",
      "   macro avg       0.46      0.50      0.48     10000\n",
      "weighted avg       0.85      0.92      0.88     10000\n",
      "\n"
     ]
    }
   ],
   "source": [
    "# Evaluate the dummy classifier\n",
    "dummy_report = classification_report(y_test, dummy_y_pred, target_names=['Bad Loans', 'Good Loans'], zero_division=0)\n",
    "print(dummy_report)"
   ]
  },
  {
   "cell_type": "markdown",
   "metadata": {},
   "source": [
    "List most important features"
   ]
  },
  {
   "cell_type": "code",
   "execution_count": 94,
   "metadata": {},
   "outputs": [
    {
     "data": {
      "image/png": "[encoded data removed]",
      "text/plain": [
       "<Figure size 1000x600 with 1 Axes>"
      ]
     },
     "metadata": {},
     "output_type": "display_data"
    }
   ],
   "source": [
    "# Get feature importances\n",
    "clf_importances = clf.feature_importances_\n",
    "clf_feature_names = X.columns\n",
    "\n",
    "# Create a DataFrame for visualization\n",
    "clf_feature_importances = pd.DataFrame({'Feature': clf_feature_names, 'Importance': clf_importances})\n",
    "clf_feature_importances = clf_feature_importances.sort_values(by='Importance', ascending=False).head(25)\n",
    "\n",
    "# Plot the feature importances\n",
    "plt.figure(figsize=(10, 6))\n",
    "plt.barh(clf_feature_importances['Feature'], clf_feature_importances['Importance'], color='skyblue')\n",
    "plt.xlabel('Importance')\n",
    "plt.ylabel('Feature')\n",
    "plt.title('Top 25 Feature Importances')\n",
    "plt.gca().invert_yaxis()\n",
    "plt.show()"
   ]
  }
 ],
 "metadata": {
  "kernelspec": {
   "display_name": ".venv",
   "language": "python",
   "name": "python3"
  },
  "language_info": {
   "codemirror_mode": {
    "name": "ipython",
    "version": 3
   },
   "file_extension": ".py",
   "mimetype": "text/x-python",
   "name": "python",
   "nbconvert_exporter": "python",
   "pygments_lexer": "ipython3",
   "version": "3.13.0"
  }
 },
 "nbformat": 4,
 "nbformat_minor": 2
}
